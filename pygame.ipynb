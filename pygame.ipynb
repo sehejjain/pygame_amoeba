{
 "cells": [
  {
   "cell_type": "code",
   "execution_count": 964,
   "metadata": {},
   "outputs": [],
   "source": [
    "import pygame, time, tqdm\n",
    "import sys, os, getopt, math, random\n",
    "import numpy as np\n",
    "from constants import *\n",
    "import cv2 as cv"
   ]
  },
  {
   "cell_type": "code",
   "execution_count": 18,
   "metadata": {},
   "outputs": [],
   "source": [
    "def check_amoeba(poses_t, poses, num_robots, step, thresh = 1):\n",
    "    \"\"\"\n",
    "    Function to check if a given amoeboid swarm is amoeboid after movement of the swarm robots\n",
    "\n",
    "    Args:\n",
    "        poses_t (np.array): Original positions of the robots\n",
    "        poses (np.array): New positions of teh robors\n",
    "        num_robots (int): Number of robots currently in the swarm\n",
    "        step (float): step moving distance\n",
    "        thresh (float, optional): threshold value for centroid and distance from centroid conditions. Defaults to 1.\n",
    "\n",
    "    Returns:\n",
    "        bool: True if the new swarm is amoeboid, False otherwise\n",
    "    \"\"\"    \n",
    "    centroid = getcenteroid(poses[:num_robots])\n",
    "    centroid_t = getcenteroid(poses_t[:num_robots])\n",
    "    # print(centroid)\n",
    "    arr_radii = np.array([get_dist(centroid, p) for p in poses[:num_robots]])\n",
    "    arr_radii_t = np.array([get_dist(centroid, p) for p in poses_t[:num_robots]])\n",
    "    \n",
    "    delta_centroid = get_dist(centroid, centroid_t)\n",
    "    delta_radius = np.mean(arr_radii) - np.mean(arr_radii_t)\n",
    "    \n",
    "    if delta_centroid/step < thresh and delta_radius/np.mean(arr_radii_t) < thresh:\n",
    "        return True\n",
    "    return False\n",
    "    \n",
    "    \n",
    "\n",
    "# Function to get centroid\n",
    "def getcenteroid(arr):\n",
    "    length, dim = arr.shape\n",
    "    return np.array([np.sum(arr[:, i])/length for i in range(dim)])\n",
    "\n",
    "def get_dist(p1, p2):\n",
    "    return np.sqrt((p1[0] - p2[0]) ** 2 + (p1[1] - p2[1]) ** 2)\n",
    "\n",
    "def euclidean_distance(a, b):\n",
    "    \"\"\"Euclidean Distance\n",
    "\n",
    "    Args:\n",
    "        a (np.array): a\n",
    "        b (np.array): b\n",
    "\n",
    "    Returns:\n",
    "        float: dist\n",
    "    \"\"\"\n",
    "    return np.linalg.norm(a-b)\n"
   ]
  },
  {
   "cell_type": "code",
   "execution_count": 19,
   "metadata": {},
   "outputs": [],
   "source": [
    "# general function to steer robot away from wall if out of boundary (following physics)\n",
    "# use global variable \"world_side_length\"\n",
    "# def robot_boundary_check(robot_pos, robot_ori):\n",
    "#     new_ori = robot_ori\n",
    "#     if robot_pos[0] >= screen.get_width():  # \n",
    "#         print(\"outside of right boundary\")\n",
    "#         if math.cos(new_ori) > 0:\n",
    "#             new_ori = reset_radian(2*(math.pi/2) - new_ori)\n",
    "#             # further check if new angle is too much perpendicular\n",
    "#             if new_ori > 0:\n",
    "#                 if (math.pi - new_ori) < perp_thres:\n",
    "#                     new_ori = new_ori - devia_angle\n",
    "#             else:\n",
    "#                 if (new_ori + math.pi) < perp_thres:\n",
    "#                     new_ori = new_ori + devia_angle\n",
    "#     elif robot_pos[0] <= 0:  # outside of left boundary\n",
    "#         print(\"outside left\")\n",
    "#         if math.cos(new_ori) < 0:\n",
    "#             new_ori = reset_radian(2*(math.pi/2) - new_ori)\n",
    "#             if new_ori > 0:\n",
    "#                 if new_ori < perp_thres:\n",
    "#                     new_ori = new_ori + devia_angle\n",
    "#             else:\n",
    "#                 if (-new_ori) < perp_thres:\n",
    "#                     new_ori = new_ori - devia_angle\n",
    "#     if robot_pos[1] >= screen.get_height():  # outside of top boundary\n",
    "#         print(\"outside of top boundary\")\n",
    "#         if math.sin(new_ori) > 0:\n",
    "#             new_ori = reset_radian(2*(0) - new_ori)\n",
    "#             if new_ori > -math.pi/2:\n",
    "#                 if (new_ori + math.pi/2) < perp_thres:\n",
    "#                     new_ori = new_ori + devia_angle\n",
    "#             else:\n",
    "#                 if (-math.pi/2 - new_ori) < perp_thres:\n",
    "#                     new_ori = new_ori - devia_angle\n",
    "#     elif robot_pos[1] <= 0:  # outside of bottom boundary\n",
    "#         print(\"outside of bottom boundary\")\n",
    "#         if math.sin(new_ori) < 0:\n",
    "#             new_ori = reset_radian(2*(0) - new_ori)\n",
    "#             if new_ori > math.pi/2:\n",
    "#                 if (new_ori - math.pi/2) < perp_thres:\n",
    "#                     new_ori = new_ori + devia_angle\n",
    "#             else:\n",
    "#                 if (math.pi/2 - new_ori) < perp_thres:\n",
    "#                     new_ori = new_ori - devia_angle\n",
    "#     return new_ori\n",
    "\n",
    "# general function to steer robot away from wall if out of boundary (in random direction)\n",
    "# use global variable \"world_side_length\"\n",
    "def robot_boundary_check(robot_pos, robot_ori):\n",
    "    new_ori = robot_ori\n",
    "    if robot_pos[0] >= world_side_length:  # outside of right boundary\n",
    "        if math.cos(new_ori) > 0:\n",
    "            new_ori = reset_radian(math.pi/2 + np.random.uniform(0,math.pi))\n",
    "    elif robot_pos[0] <= 0:  # outside of left boundary\n",
    "        if math.cos(new_ori) < 0:\n",
    "            new_ori = reset_radian(-math.pi/2 + np.random.uniform(0,math.pi))\n",
    "    if robot_pos[1] >= world_side_length:  # outside of top boundary\n",
    "        if math.sin(new_ori) > 0:\n",
    "            new_ori = reset_radian(-math.pi + np.random.uniform(0,math.pi))\n",
    "    elif robot_pos[1] <= 0:  # outside of bottom boundary\n",
    "        if math.sin(new_ori) < 0:\n",
    "            new_ori = reset_radian(0 + np.random.uniform(0,math.pi))\n",
    "    return new_ori\n",
    "\n",
    "# general function to reset radian angle to [-pi, pi)\n",
    "def reset_radian(radian):\n",
    "    while radian >= math.pi:\n",
    "        radian = radian - 2*math.pi\n",
    "    while radian < -math.pi:\n",
    "        radian = radian + 2*math.pi\n",
    "    return radian"
   ]
  },
  {
   "cell_type": "code",
   "execution_count": 921,
   "metadata": {},
   "outputs": [],
   "source": [
    "# calculate world_side_coef from a desired screen size for 30 robots\n",
    "def cal_world_side_coef():\n",
    "    desired_screen_size = 750  # desired screen size for 30 robots\n",
    "    desired_world_size = float(desired_screen_size) / pixels_per_length\n",
    "    return desired_world_size / pow(30, 1/power_exponent)\n",
    "world_side_coef = cal_world_side_coef()\n",
    "# world_side_length = world_side_coef * pow(swarm_size, 1/power_exponent)\n",
    "world_side_length = world_side_coef * pow(30, 1/power_exponent)\n",
    "world_size = (world_side_length, world_side_length)  # square physical world\n",
    "# screen size calculated from world size\n",
    "screen_side_length = int(pixels_per_length * world_side_length)\n",
    "screen_size = (screen_side_length, screen_side_length)  # square display world"
   ]
  },
  {
   "cell_type": "code",
   "execution_count": 922,
   "metadata": {},
   "outputs": [],
   "source": [
    "# Function to create a unit vector from a given vector\n",
    "def unit_vector(vector):\n",
    "    return np.abs(vector / np.linalg.norm(vector))\n",
    "def get_swarm_vector(robot_oris):\n",
    "    vector = np.array([0.0,0.0])\n",
    "    for ori in robot_oris:\n",
    "        vec = np.array([math.cos(ori), math.sin(ori)])\n",
    "        vector += vec\n",
    "    return vector\n",
    "\n",
    "def get_radial_distance(robot_poses, current_swarm_size):\n",
    "    centroid = np.array([np.sum(robot_poses[:, 0]), np.sum(robot_poses[:, 1])])/current_swarm_size\n",
    "    radial_dist = 0\n",
    "    for robot in range(current_swarm_size):\n",
    "        radial_dist+= euclidean_distance(centroid, robot_poses[robot])\n",
    "        \n",
    "    return radial_dist"
   ]
  },
  {
   "cell_type": "code",
   "execution_count": 923,
   "metadata": {},
   "outputs": [],
   "source": [
    "try:\n",
    "    pygame.display.quit()\n",
    "    pygame.quit()\n",
    "except:\n",
    "    pass\n",
    "pygame.init()\n",
    "\n",
    "font = pygame.font.SysFont(\"Cabin\", 12)\n",
    "\n",
    "screen = pygame.display.set_mode(screen_size)\n",
    "pygame.display.set_caption(\"Demo 1\")\n",
    "# draw the network\n",
    "screen.fill(color_white)\n",
    "\n",
    "pygame.display.update()\n",
    "def disp_poses_update():\n",
    "    global disp_poses\n",
    "    poses_temp = robot_poses / world_side_length\n",
    "    poses_temp[:,1] = 1.0 - poses_temp[:,1]\n",
    "    poses_temp = poses_temp * screen_side_length\n",
    "    disp_poses = poses_temp.astype(int)  # convert to int and assign to disp_poses\n",
    "    # disp_poses = np.array([[0,0] for i in range(swarm_size)])  # \n",
    "# disp_poses_update()\n"
   ]
  },
  {
   "cell_type": "code",
   "execution_count": 1059,
   "metadata": {},
   "outputs": [],
   "source": [
    "def get_coverage(img):\n",
    "    imgray = cv.cvtColor(img, cv.IMREAD_GRAYSCALE)\n",
    "    count = 0\n",
    "    for i in range(screen_side_length):\n",
    "        for j in range(screen_side_length):\n",
    "            if (imgray[i][j]!= 255).any():\n",
    "                count+=1\n",
    "\n",
    "    return count/(screen_side_length*screen_side_length)\n",
    "\n",
    "def plot_swarm(robot_poses, robot_oris, disp_poses_t=None):\n",
    "    # draw the network\n",
    "    disp_poses_update()\n",
    "    # screen.fill(color_white)\n",
    "    for i in range(swarm_size):\n",
    "        pygame.draw.circle(screen, color_black, disp_poses[i], robot_size_formation-1, 100)\n",
    "        # pygame.draw.line(screen, color_grey, disp_poses[i], disp_poses[i]+np.array([math.cos(robot_oris[i]), math.sin(robot_oris[i])])*50)\n",
    "        if disp_poses_t is not None:\n",
    "            # pygame.draw.line(screen, color_black, disp_poses[i], disp_poses_t[i])\n",
    "            pass\n",
    "    pygame.display.update()\n",
    "# plot_swarm(robot_poses, robot_oris)\n",
    "\n",
    "def rebound_reflection(robot_pos, sensing_range):\n",
    "    reflection = np.array([0.0, 0.0])\n",
    "    if robot_pos[0] < sensing_range:\n",
    "        reflection += np.array([world_side_length/4, 0.0])\n",
    "    if world_side_length - robot_pos[0] < sensing_range:\n",
    "        reflection += np.array([-world_side_length/4, 0.0])\n",
    "    if robot_pos[1]< sensing_range:\n",
    "        reflection += np.array([0.0, world_side_length/4])\n",
    "    if world_side_length - robot_pos[1]< sensing_range:\n",
    "        reflection += np.array([0.0, -world_side_length/4])\n",
    "        \n",
    "    return reflection\n",
    "\n",
    "def reset_ori_random():\n",
    "    return np.random.rand(swarm_size) * math.pi\n",
    "\n",
    "def reset_ori():\n",
    "    return np.array([np.random.rand()*math.pi for i in range(swarm_size)])"
   ]
  },
  {
   "cell_type": "code",
   "execution_count": 1060,
   "metadata": {},
   "outputs": [],
   "source": [
    "np.random.seed(0)\n",
    "\n"
   ]
  },
  {
   "cell_type": "code",
   "execution_count": 1104,
   "metadata": {},
   "outputs": [],
   "source": [
    "step = 0.12\n",
    "swarm_size = 3\n",
    "# init = 100\n",
    "delta_c = 1.5\n",
    "delta_r = 1.5\n",
    "step_normal = 3.0\n",
    "swarm_ori = np.random.random()*math.pi\n",
    "sim_haulted = False\n",
    "center = np.array([world_side_length/2, world_side_length/2])\n",
    "\n",
    "reflection_vectors = np.array([[0.0,0.0] for i in range(swarm_size)])\n",
    "reflection_counter = [0 for i in range(swarm_size)]\n",
    "sensing_range = 0.5\n",
    "reflection_counter_iter = 5\n",
    "\n",
    "\n",
    "robot_poses = np.array([[1.0,1.0] for i in range(swarm_size)])  # initialize the robot poses\n",
    "dist_table = np.zeros((swarm_size, swarm_size))  # distances between robots\n",
    "conn_table = np.zeros((swarm_size, swarm_size))  # connections between robots\n",
    "current_swarm_size = 1  # the current swarm size\n",
    "robot_oris = np.random.rand(swarm_size) * math.pi   # in range of [0, pi/2)\n",
    "past = []\n",
    "screen.fill(color_white)\n",
    "\n",
    "plot_swarm(robot_poses, robot_oris)\n",
    "\n",
    "random_weight = 2.0\n",
    "pseudopod_weight = 4.0\n",
    "current_weight = 2.0\n",
    "iter_counter = 0\n",
    "\n",
    "\n",
    "reset_counter_val = 300\n",
    "\n",
    "results = {}"
   ]
  },
  {
   "cell_type": "code",
   "execution_count": 1149,
   "metadata": {},
   "outputs": [
    {
     "name": "stderr",
     "output_type": "stream",
     "text": [
      "100%|██████████| 500/500 [00:02<00:00, 245.22it/s]\n"
     ]
    }
   ],
   "source": [
    "for iter in tqdm.trange(500):\n",
    "    for event in pygame.event.get():\n",
    "        if event.type == pygame.QUIT:  # close window button is clicked\n",
    "            print(\"program exit in simulation 1\")\n",
    "            sys.exit()  # exit the entire program\n",
    "        if event.type == pygame.KEYUP:\n",
    "            if event.key == pygame.K_SPACE:\n",
    "                sim_haulted = not sim_haulted  # reverse the pause flag\n",
    "    # if sim_haulted: continue\n",
    "    # print(f\"Halted = {sim_haulted}, swarm size = {current_swarm_size}\")\n",
    "    # print(f\"current swarm size is: {current_swarm_size} out of {swarm_size}\")\n",
    "    current_pos = robot_poses[0]\n",
    "    centroid = np.array([np.sum(robot_poses[:, 0]), np.sum(robot_poses[:, 1])])/current_swarm_size\n",
    "    # print(centroid)\n",
    "    \n",
    "    if iter_counter % reset_counter_val<5:\n",
    "        robot_oris = reset_ori()\n",
    "    if iter_counter % reset_counter_val==5:\n",
    "        robot_oris = reset_ori_random()\n",
    "    disp_poses_t = disp_poses.copy()\n",
    "    robot_poses_t = robot_poses.copy()  # stores the old copy of robot positions\n",
    "    if current_swarm_size == 0: pass #continue\n",
    "    elif current_swarm_size < 3:\n",
    "        old_centroid = np.array([1,1])\n",
    "        # random_vector = unit_vector((np.random.rand(2)-0.5)*2)\n",
    "        for j in range(current_swarm_size):\n",
    "        \n",
    "            robot_oris[j] = robot_boundary_check(robot_poses_t[j], robot_oris[j])\n",
    "            robot_poses[j] = robot_poses_t[j] + (step/5 * np.array([math.cos(robot_oris[j]), math.sin(robot_oris[j])]))\n",
    "            past.append((robot_poses[j], robot_poses_t[j]))\n",
    "        old_centroid = centroid\n",
    "        changed_distance = euclidean_distance(old_centroid, centroid)\n",
    "        old_radial = get_radial_distance(robot_poses, current_swarm_size)\n",
    "        \n",
    "    else:\n",
    "        # Add robot to swarm\n",
    "        if current_swarm_size < swarm_size:\n",
    "\n",
    "            j = current_swarm_size\n",
    "            robot_oris[j] = robot_boundary_check(robot_poses_t[j], robot_oris[j])\n",
    "            robot_poses[j] = robot_poses_t[j] + (step * np.array([math.cos(robot_oris[j]), math.sin(robot_oris[j])]))\n",
    "        \n",
    "        # Pseudopod Grouping\n",
    "        non_moving = []\n",
    "        robot_ids = list(range(current_swarm_size))\n",
    "        \n",
    "        for div in range(current_swarm_size//3):\n",
    "            init = np.random.choice(robot_ids)\n",
    "            # print(\"Robot chosen is: \", init)\n",
    "            robot_ids.remove(init)\n",
    "            closest = S14_closest_robot(init, robot_ids)\n",
    "            robot_ids.remove(closest)\n",
    "            # print(\"closest robot id is: \", closest)\n",
    "            \n",
    "            # Choose another robot that is closest to the two\n",
    "            closest1 = S14_closest_robot(init, robot_ids)\n",
    "            closest2 = S14_closest_robot(closest, robot_ids)\n",
    "            if closest1 == closest2:\n",
    "                triad = [init, closest, closest1]\n",
    "                robot_ids.remove(closest1)\n",
    "            else:\n",
    "                if dist_table[init, closest1] < dist_table[closest, closest2]:\n",
    "                    triad = [init, closest, closest1]\n",
    "                    robot_ids.remove(closest1)\n",
    "                else:\n",
    "                    triad = [init, closest, closest2]\n",
    "                    robot_ids.remove(closest2)\n",
    "            # print(\"triad is: \", triad) # Direction of Last robot in this list is updated, other two are pseudopods\n",
    "            non_moving.extend([triad[0], triad[1]])\n",
    "            dist = [euclidean_distance(robot_poses[triad[i]], centroid) for i in range(len(triad))]\n",
    "            \n",
    "            # dist.sort(reverse=True)\n",
    "            vector1 = np.array([math.cos(robot_oris[triad[0]]), math.sin(robot_oris[triad[0]])])\n",
    "            vector2 = np.array([math.cos(robot_oris[triad[1]]), math.sin(robot_oris[triad[1]])])\n",
    "            \n",
    "            current_vector = np.array([math.cos(robot_oris[triad[2]]), math.sin(robot_oris[triad[2]])])\n",
    "            random_ori = np.random.random()* 2* math.pi\n",
    "            random_vector = np.array([math.cos(random_ori), math.sin(random_ori)])\n",
    "            centroid_vector = np.array(centroid) - np.array(robot_poses[triad[2]])\n",
    "            avg_vector = get_swarm_vector(robot_oris)\n",
    "            \n",
    "            vector = pseudopod_weight*np.random.random()*(vector1 + vector2) + current_weight * np.random.random()* current_vector + np.random.random() * centroid_vector + np.random.random() * avg_vector + random_weight * np.random.random()*random_vector\n",
    "            \n",
    "            \n",
    "            robot_oris[triad[2]] = math.atan2(vector[1], vector[0])\n",
    "\n",
    "\n",
    "            step_dist = 0\n",
    "            coord_old = robot_poses[triad[2]]\n",
    "            \n",
    "            sum_coord = sum(robot_poses[:current_swarm_size])\n",
    "            \n",
    "            curr_reflection = rebound_reflection(robot_poses[triad[2]], sensing_range)\n",
    "            if (curr_reflection != np.array([0.0,0.0])).any():\n",
    "                robot_oris[triad[2]] = math.atan2(curr_reflection[1], curr_reflection[0])\n",
    "                robot_poses[triad[2]] = robot_poses_t[triad[2]] + (step * np.array([math.cos(robot_oris[triad[2]]), math.sin(robot_oris[triad[2]])]))\n",
    "            else:\n",
    "                for step_candidate in np.linspace(step, step/2, 10):\n",
    "                    new_pos = robot_poses_t[triad[2]] + (step_candidate * np.array([math.cos(robot_oris[triad[2]]), math.sin(robot_oris[triad[2]])]))\n",
    "                    new_centroid = np.array(np.sum(new_pos), np.sum(new_pos))/current_swarm_size\n",
    "                    # print(euclidean_distance(old_centroid, centroid))\n",
    "                    if euclidean_distance(new_centroid, centroid)/changed_distance < delta_c:\n",
    "                        break\n",
    "                \n",
    "            changed_distance = euclidean_distance(new_centroid, centroid) - euclidean_distance(old_centroid, centroid)\n",
    "            robot_poses[triad[2]] = new_pos\n",
    "            centroid = np.array([np.sum(robot_poses[:, 0]), np.sum(robot_poses[:, 1])])/current_swarm_size\n",
    "            past.append((robot_poses[triad[2]], robot_poses_t[triad[2]]))\n",
    "            \n",
    "\n",
    "        curr_radial_dist = get_radial_distance(robot_poses, current_swarm_size)\n",
    "        # print(\"robots left are \",robot_ids+non_moving)\n",
    "        \n",
    "        robot_ids.sort(key=lambda x: get_dist(centroid, robot_poses[x]), reverse=True)\n",
    "        for robot in robot_ids+non_moving:\n",
    "            current_vector = np.array([math.cos(robot_oris[robot]), math.sin(robot_oris[robot])])\n",
    "            centroid_vector = np.array(centroid) - np.array(robot_poses[robot])\n",
    "            random_ori = np.random.random()* 2* math.pi\n",
    "            random_vector = np.array([math.cos(random_ori), math.sin(random_ori)])\n",
    "            final_vector = current_weight* np.random.random()* current_vector + np.random.random()*centroid_vector+ random_weight*np.random.random()*random_vector\n",
    "            \n",
    "            ori = math.atan2(final_vector[1], final_vector[0])\n",
    "            curr_reflection = rebound_reflection(robot_poses[robot], sensing_range)\n",
    "            if (curr_reflection != np.array([0.0,0.0])).any():\n",
    "                robot_oris[robot] = math.atan2(curr_reflection[1], curr_reflection[0])\n",
    "            \n",
    "            else:\n",
    "                for step_candidate in np.linspace(step, step/2, 10):\n",
    "                    new_pos = robot_poses_t[robot] + (step_candidate * np.array([math.cos(ori), math.sin(ori)]))\n",
    "                    new_radial = curr_radial_dist - euclidean_distance(centroid, robot_poses_t[robot])+ euclidean_distance(centroid, new_pos)\n",
    "                    \n",
    "                    if (new_radial)/old_radial < delta_r:\n",
    "                        robot_poses[robot] = new_pos\n",
    "                        past.append((robot_poses[robot], robot_poses_t[robot]))\n",
    "                        break\n",
    "                        robot_poses_t[robot] + (step * np.array([math.cos(ori), math.sin(ori)]))\n",
    "\n",
    "            centroid = np.array([np.sum(robot_poses[:, 0]), np.sum(robot_poses[:, 1])])/current_swarm_size\n",
    "            \n",
    "        \n",
    "        old_radial = new_radial\n",
    "    old_centroid = centroid\n",
    "    prev = robot_poses_t[:(current_swarm_size-1)] if current_swarm_size < swarm_size else robot_poses_t\n",
    "    \n",
    "    # if iter_counter % 10 == 0:\n",
    "    #     pygame.image.save(screen, \"swarm\"+str(iter_counter)+\".png\")\n",
    "    \n",
    "    \n",
    "    if current_swarm_size < swarm_size:\n",
    "        current_swarm_size+=1 \n",
    "    iter_counter+=1\n",
    "    plot_swarm(robot_poses, robot_oris, disp_poses_t)\n",
    "    # pygame.image.save(screen, 'img/swarm.png')\n",
    "    # # get_coverage(cv.imread('swarm.png'))\n",
    "    \n",
    "    # if iter_counter % 20 == 0:\n",
    "    #     results[iter_counter] = get_coverage(cv.imread('img/swarm.png'))\n",
    "    "
   ]
  },
  {
   "cell_type": "code",
   "execution_count": 1086,
   "metadata": {},
   "outputs": [],
   "source": [
    "pygame.image.save(screen, \"swarm.png\")"
   ]
  },
  {
   "cell_type": "code",
   "execution_count": 1150,
   "metadata": {},
   "outputs": [
    {
     "data": {
      "text/plain": [
       "array([[14.54873675, 14.3511033 ],\n",
       "       [ 2.69637147, 14.51715635],\n",
       "       [ 2.69637147, 14.51715635]])"
      ]
     },
     "execution_count": 1150,
     "metadata": {},
     "output_type": "execute_result"
    },
    {
     "ename": "",
     "evalue": "",
     "output_type": "error",
     "traceback": [
      "\u001b[1;31mThe Kernel crashed while executing code in the the current cell or a previous cell. Please review the code in the cell(s) to identify a possible cause of the failure. Click <a href='https://aka.ms/vscodeJupyterKernelCrash'>here</a> for more info. View Jupyter <a href='command:jupyter.viewOutput'>log</a> for further details."
     ]
    }
   ],
   "source": [
    "robot_poses"
   ]
  },
  {
   "cell_type": "code",
   "execution_count": 642,
   "metadata": {},
   "outputs": [
    {
     "data": {
      "text/plain": [
       "(array([ 0.        , -1.57079633, -1.57079633, -1.57079633, -1.57079633,\n",
       "        -1.57079633, -1.57079633, -1.57079633, -1.57079633, -1.57079633]),\n",
       " 265)"
      ]
     },
     "execution_count": 642,
     "metadata": {},
     "output_type": "execute_result"
    }
   ],
   "source": [
    "robot_oris, iter_counter\n"
   ]
  },
  {
   "cell_type": "code",
   "execution_count": 348,
   "metadata": {},
   "outputs": [],
   "source": [
    "screen.fill(color_white)\n",
    "pygame.display.update()"
   ]
  },
  {
   "cell_type": "code",
   "execution_count": 347,
   "metadata": {},
   "outputs": [],
   "source": [
    "plot_swarm(robot_poses, robot_oris)"
   ]
  },
  {
   "cell_type": "code",
   "execution_count": 346,
   "metadata": {},
   "outputs": [
    {
     "data": {
      "text/plain": [
       "array([[500,   0]])"
      ]
     },
     "execution_count": 346,
     "metadata": {},
     "output_type": "execute_result"
    }
   ],
   "source": [
    "robot_poses = np.array([(10.0, 10.0)])\n",
    "disp_poses_update()\n",
    "screen.fill(color_white)\n",
    "swarm_size=len(robot_poses)\n",
    "plot_swarm(robot_poses, robot_oris)\n",
    "disp_poses"
   ]
  },
  {
   "cell_type": "markdown",
   "metadata": {},
   "source": [
    "# 0,0 => 0,500\n",
    "# 10,0 => 500, 500\n",
    "# 0, 10 => 0, 0\n",
    "# 10, 10 => 500, 0"
   ]
  },
  {
   "cell_type": "code",
   "execution_count": 412,
   "metadata": {},
   "outputs": [],
   "source": [
    "def change(x, y):\n",
    "    return (x/world_side_length)*screen_side_length, (1.0-y/world_side_length)*screen_side_length"
   ]
  },
  {
   "cell_type": "code",
   "execution_count": 413,
   "metadata": {},
   "outputs": [
    {
     "name": "stdout",
     "output_type": "stream",
     "text": [
      "(0.0, 500.0) (500.0, 500.0) (0.0, 0.0) (500.0, 0.0)\n"
     ]
    }
   ],
   "source": [
    "print(change(0,0),change(10,0),change(0,10),change(10,10))"
   ]
  },
  {
   "cell_type": "code",
   "execution_count": 410,
   "metadata": {},
   "outputs": [
    {
     "data": {
      "text/plain": [
       "10.0"
      ]
     },
     "execution_count": 410,
     "metadata": {},
     "output_type": "execute_result"
    }
   ],
   "source": [
    "world_side_length"
   ]
  },
  {
   "cell_type": "code",
   "execution_count": 210,
   "metadata": {},
   "outputs": [
    {
     "data": {
      "text/plain": [
       "array([[3.01047938e+00, 5.29539113e+02],\n",
       "       [2.00602099e+00, 5.30852795e+02],\n",
       "       [2.79661049e+00, 5.32289499e+02],\n",
       "       [2.82456915e+00, 5.27426253e+02],\n",
       "       [2.56908210e+00, 5.30810584e+02],\n",
       "       [2.47966739e+00, 5.34525464e+02],\n",
       "       [2.35706071e+00, 5.33409803e+02],\n",
       "       [3.93148912e-01, 6.87735246e+00],\n",
       "       [2.89683430e-01, 2.12437243e+00],\n",
       "       [2.26707424e+00, 5.39985136e+02]])"
      ]
     },
     "execution_count": 210,
     "metadata": {},
     "output_type": "execute_result"
    }
   ],
   "source": [
    "robot_poses"
   ]
  },
  {
   "cell_type": "code",
   "execution_count": 1054,
   "metadata": {},
   "outputs": [],
   "source": [
    "data = []\n",
    "for key, val in results.items():\n",
    "    data.append([key, val*100])"
   ]
  },
  {
   "cell_type": "code",
   "execution_count": 1055,
   "metadata": {},
   "outputs": [],
   "source": [
    "df = pd.DataFrame(data, columns=['iteration', 'coverage'])"
   ]
  },
  {
   "cell_type": "code",
   "execution_count": 1056,
   "metadata": {},
   "outputs": [
    {
     "data": {
      "text/plain": [
       "<AxesSubplot:>"
      ]
     },
     "execution_count": 1056,
     "metadata": {},
     "output_type": "execute_result"
    },
    {
     "data": {
      "image/png": "[encoded data removed]",
      "text/plain": [
       "<Figure size 432x288 with 1 Axes>"
      ]
     },
     "metadata": {
      "needs_background": "light"
     },
     "output_type": "display_data"
    }
   ],
   "source": [
    "df.plot()"
   ]
  },
  {
   "cell_type": "code",
   "execution_count": 1057,
   "metadata": {},
   "outputs": [
    {
     "data": {
      "text/html": [
       "<div>\n",
       "<style scoped>\n",
       "    .dataframe tbody tr th:only-of-type {\n",
       "        vertical-align: middle;\n",
       "    }\n",
       "\n",
       "    .dataframe tbody tr th {\n",
       "        vertical-align: top;\n",
       "    }\n",
       "\n",
       "    .dataframe thead th {\n",
       "        text-align: right;\n",
       "    }\n",
       "</style>\n",
       "<table border=\"1\" class=\"dataframe\">\n",
       "  <thead>\n",
       "    <tr style=\"text-align: right;\">\n",
       "      <th></th>\n",
       "      <th>iteration</th>\n",
       "      <th>coverage</th>\n",
       "    </tr>\n",
       "  </thead>\n",
       "  <tbody>\n",
       "    <tr>\n",
       "      <th>0</th>\n",
       "      <td>20</td>\n",
       "      <td>0.932267</td>\n",
       "    </tr>\n",
       "    <tr>\n",
       "      <th>1</th>\n",
       "      <td>40</td>\n",
       "      <td>1.960178</td>\n",
       "    </tr>\n",
       "    <tr>\n",
       "      <th>2</th>\n",
       "      <td>60</td>\n",
       "      <td>2.922667</td>\n",
       "    </tr>\n",
       "    <tr>\n",
       "      <th>3</th>\n",
       "      <td>80</td>\n",
       "      <td>4.044444</td>\n",
       "    </tr>\n",
       "    <tr>\n",
       "      <th>4</th>\n",
       "      <td>100</td>\n",
       "      <td>4.859378</td>\n",
       "    </tr>\n",
       "    <tr>\n",
       "      <th>...</th>\n",
       "      <td>...</td>\n",
       "      <td>...</td>\n",
       "    </tr>\n",
       "    <tr>\n",
       "      <th>100</th>\n",
       "      <td>2020</td>\n",
       "      <td>43.739200</td>\n",
       "    </tr>\n",
       "    <tr>\n",
       "      <th>101</th>\n",
       "      <td>2040</td>\n",
       "      <td>44.112711</td>\n",
       "    </tr>\n",
       "    <tr>\n",
       "      <th>102</th>\n",
       "      <td>2060</td>\n",
       "      <td>44.209067</td>\n",
       "    </tr>\n",
       "    <tr>\n",
       "      <th>103</th>\n",
       "      <td>2080</td>\n",
       "      <td>44.219200</td>\n",
       "    </tr>\n",
       "    <tr>\n",
       "      <th>104</th>\n",
       "      <td>2100</td>\n",
       "      <td>44.225956</td>\n",
       "    </tr>\n",
       "  </tbody>\n",
       "</table>\n",
       "<p>105 rows × 2 columns</p>\n",
       "</div>"
      ],
      "text/plain": [
       "     iteration   coverage\n",
       "0           20   0.932267\n",
       "1           40   1.960178\n",
       "2           60   2.922667\n",
       "3           80   4.044444\n",
       "4          100   4.859378\n",
       "..         ...        ...\n",
       "100       2020  43.739200\n",
       "101       2040  44.112711\n",
       "102       2060  44.209067\n",
       "103       2080  44.219200\n",
       "104       2100  44.225956\n",
       "\n",
       "[105 rows x 2 columns]"
      ]
     },
     "execution_count": 1057,
     "metadata": {},
     "output_type": "execute_result"
    }
   ],
   "source": [
    "df"
   ]
  },
  {
   "cell_type": "code",
   "execution_count": 1058,
   "metadata": {},
   "outputs": [],
   "source": [
    "df.to_csv('results.csv')"
   ]
  },
  {
   "cell_type": "code",
   "execution_count": null,
   "metadata": {},
   "outputs": [],
   "source": []
  },
  {
   "cell_type": "code",
   "execution_count": null,
   "metadata": {},
   "outputs": [],
   "source": []
  },
  {
   "cell_type": "code",
   "execution_count": null,
   "metadata": {},
   "outputs": [],
   "source": []
  }
 ],
 "metadata": {
  "interpreter": {
   "hash": "80abd1883e2bdb729655d48617bd9f4ab574f1992ae1ee484870355a6b9d98fc"
  },
  "kernelspec": {
   "display_name": "Python 3.7.9 64-bit ('pygame-swarm')",
   "language": "python",
   "name": "python3"
  },
  "language_info": {
   "codemirror_mode": {
    "name": "ipython",
    "version": 3
   },
   "file_extension": ".py",
   "mimetype": "text/x-python",
   "name": "python",
   "nbconvert_exporter": "python",
   "pygments_lexer": "ipython3",
   "version": "3.7.9"
  },
  "orig_nbformat": 4
 },
 "nbformat": 4,
 "nbformat_minor": 2
}
