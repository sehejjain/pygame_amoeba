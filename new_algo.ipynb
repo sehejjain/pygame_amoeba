{
 "cells": [
  {
   "cell_type": "code",
   "execution_count": 1,
   "metadata": {},
   "outputs": [
    {
     "name": "stdout",
     "output_type": "stream",
     "text": [
      "pygame 2.1.2 (SDL 2.0.18, Python 3.7.9)\n",
      "Hello from the pygame community. https://www.pygame.org/contribute.html\n"
     ]
    }
   ],
   "source": [
    "import pygame, time\n",
    "import sys, os, getopt, math, random\n",
    "import numpy as np\n",
    "from constants import *"
   ]
  },
  {
   "cell_type": "code",
   "execution_count": 2,
   "metadata": {},
   "outputs": [],
   "source": [
    "# calculate world_side_coef from a desired screen size for 30 robots\n",
    "def cal_world_side_coef():\n",
    "    desired_screen_size = 500  # desired screen size for 30 robots\n",
    "    desired_world_size = float(desired_screen_size) / pixels_per_length\n",
    "    return desired_world_size / pow(30, 1/power_exponent)\n",
    "world_side_coef = cal_world_side_coef()\n",
    "# world_side_length = world_side_coef * pow(swarm_size, 1/power_exponent)\n",
    "world_side_length = world_side_coef * pow(30, 1/power_exponent)\n",
    "world_size = (world_side_length, world_side_length)  # square physical world\n",
    "# screen size calculated from world size\n",
    "screen_side_length = int(pixels_per_length * world_side_length)\n",
    "screen_size = (screen_side_length, screen_side_length)  # square display world"
   ]
  },
  {
   "cell_type": "code",
   "execution_count": 3,
   "metadata": {},
   "outputs": [],
   "source": [
    "def change_coordinates(x, y):\n",
    "    \"\"\"\n",
    "    Changes coordinates to pygame view point\n",
    "\n",
    "    Args:\n",
    "        x (float): X coordinate\n",
    "        y (float): Y coordinate\n",
    "\n",
    "    Returns:\n",
    "        tuple: new coordinates\n",
    "    \"\"\"    \n",
    "    return (x/world_side_length)*screen_side_length, (1.0-y/world_side_length)*screen_side_length"
   ]
  },
  {
   "cell_type": "code",
   "execution_count": 4,
   "metadata": {},
   "outputs": [],
   "source": [
    "class Robot:\n",
    "    \"\"\"\n",
    "    Class for each robot in the swarm\n",
    "    \"\"\"    \n",
    "    def __init__(self, x, y, ori, color=None):\n",
    "        \"\"\"\n",
    "        Init Function\n",
    "\n",
    "        Args:\n",
    "            x (float): X coordinate\n",
    "            y (float): Y coordinate\n",
    "            ori (float): atan2 value of angle\n",
    "            color (tuple, optional): color. Defaults to None.\n",
    "        \"\"\"        \n",
    "        self.pos = np.array([float(x), float(y)])\n",
    "        self.ori = ori\n",
    "        self.color = color\n",
    "        self.past = []\n",
    "        self.swarm_knowledge = [None for _ in range(swarm_size)]\n",
    "        self.reflection = np.array([0.0,0.0])\n",
    "        self.reflection_counter = 0\n",
    "        \n",
    "    def move(self, triad_vec1, triad_vec2, centroid_vec, swarm_vec):\n",
    "        pass\n",
    "    \n",
    "    def plot(self, screen):\n",
    "        pygame.draw.circle(screen, self.color, change_coordinates(self.pos[0], self.pos[1]), 5)"
   ]
  },
  {
   "cell_type": "code",
   "execution_count": null,
   "metadata": {},
   "outputs": [],
   "source": []
  },
  {
   "cell_type": "code",
   "execution_count": 5,
   "metadata": {},
   "outputs": [],
   "source": [
    "def exchangeInformation(swarm):\n",
    "    for i in range(len(swarm)):\n",
    "        swarm[i].swarm_knowledge[i] = (swarm[i].pos, swarm[i].ori)\n",
    "        for j in range(i+1, len(swarm)):\n",
    "            swarm[i].swarm_knowledge[j] = (swarm[j].pos, swarm[j].ori)\n",
    "        "
   ]
  },
  {
   "cell_type": "code",
   "execution_count": 6,
   "metadata": {},
   "outputs": [],
   "source": [
    "try:\n",
    "    pygame.display.quit()\n",
    "    pygame.quit()\n",
    "except:\n",
    "    pass\n",
    "pygame.init()\n",
    "\n",
    "font = pygame.font.SysFont(\"Cabin\", 12)\n",
    "\n",
    "screen = pygame.display.set_mode(screen_size)\n",
    "pygame.display.set_caption(\"Demo 1\")\n",
    "# draw the network\n",
    "screen.fill(color_white)\n",
    "pygame.display.update()"
   ]
  },
  {
   "cell_type": "code",
   "execution_count": 12,
   "metadata": {},
   "outputs": [],
   "source": [
    "swarm_size=10\n",
    "current_swarm_size = 1\n",
    "sim_haulted = False\n",
    "# robot_poses = np.random.rand(swarm_size, 2) * world_side_length\n",
    "robot_poses = np.array([[1.0,1.0] for i in range(swarm_size)])  # initialize the robot pose\n",
    "robots = []\n",
    "for robot in range(swarm_size):\n",
    "    robots.append(Robot(robot_poses[robot][0], robot_poses[robot][1], 0, (255, 0, 0)))"
   ]
  },
  {
   "cell_type": "code",
   "execution_count": 13,
   "metadata": {},
   "outputs": [
    {
     "name": "stdout",
     "output_type": "stream",
     "text": [
      "Halted = False, swarm size = 1\n",
      "current swarm size is: 1 out of 10\n"
     ]
    }
   ],
   "source": [
    "for iter in range(1):\n",
    "    for event in pygame.event.get():\n",
    "        if event.type == pygame.QUIT:  # close window button is clicked\n",
    "            print(\"program exit in simulation 1\")\n",
    "            sys.exit()  # exit the entire program\n",
    "        if event.type == pygame.KEYUP:\n",
    "            if event.key == pygame.K_SPACE:\n",
    "                sim_haulted = not sim_haulted  # reverse the pause flag\n",
    "    # if sim_haulted: continue\n",
    "    print(f\"Halted = {sim_haulted}, swarm size = {current_swarm_size}\")\n",
    "    print(f\"current swarm size is: {current_swarm_size} out of {swarm_size}\")\n",
    "    \n",
    "    \n",
    "    "
   ]
  },
  {
   "cell_type": "code",
   "execution_count": null,
   "metadata": {},
   "outputs": [],
   "source": []
  },
  {
   "cell_type": "code",
   "execution_count": 14,
   "metadata": {},
   "outputs": [],
   "source": [
    "for robot in robots:\n",
    "    robot.plot(screen)"
   ]
  },
  {
   "cell_type": "code",
   "execution_count": 15,
   "metadata": {},
   "outputs": [
    {
     "ename": "",
     "evalue": "",
     "output_type": "error",
     "traceback": [
      "\u001b[1;31mThe Kernel crashed while executing code in the the current cell or a previous cell. Please review the code in the cell(s) to identify a possible cause of the failure. Click <a href='https://aka.ms/vscodeJupyterKernelCrash'>here</a> for more info. View Jupyter <a href='command:jupyter.viewOutput'>log</a> for further details."
     ]
    }
   ],
   "source": [
    "pygame.display.update()"
   ]
  },
  {
   "cell_type": "code",
   "execution_count": 23,
   "metadata": {},
   "outputs": [
    {
     "data": {
      "text/plain": [
       "<rect(0, 0, 500, 500)>"
      ]
     },
     "execution_count": 23,
     "metadata": {},
     "output_type": "execute_result"
    }
   ],
   "source": [
    "screen.fill(color_white)"
   ]
  },
  {
   "cell_type": "code",
   "execution_count": null,
   "metadata": {},
   "outputs": [],
   "source": []
  }
 ],
 "metadata": {
  "interpreter": {
   "hash": "80abd1883e2bdb729655d48617bd9f4ab574f1992ae1ee484870355a6b9d98fc"
  },
  "kernelspec": {
   "display_name": "Python 3.7.9 64-bit ('pygame-swarm')",
   "language": "python",
   "name": "python3"
  },
  "language_info": {
   "codemirror_mode": {
    "name": "ipython",
    "version": 3
   },
   "file_extension": ".py",
   "mimetype": "text/x-python",
   "name": "python",
   "nbconvert_exporter": "python",
   "pygments_lexer": "ipython3",
   "version": "3.7.9"
  },
  "orig_nbformat": 4
 },
 "nbformat": 4,
 "nbformat_minor": 2
}
