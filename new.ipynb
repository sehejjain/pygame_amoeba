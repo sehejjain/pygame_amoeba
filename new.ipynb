{
 "cells": [
  {
   "cell_type": "code",
   "execution_count": 5,
   "metadata": {},
   "outputs": [
    {
     "name": "stdout",
     "output_type": "stream",
     "text": [
      "pygame 2.1.2 (SDL 2.0.18, Python 3.7.9)\n",
      "Hello from the pygame community. https://www.pygame.org/contribute.html\n"
     ]
    }
   ],
   "source": [
    "import pygame\n",
    "import sys, os, getopt, math, random\n",
    "import numpy as np\n",
    "from constants import *"
   ]
  },
  {
   "cell_type": "code",
   "execution_count": 6,
   "metadata": {},
   "outputs": [],
   "source": [
    "swarm_size = 7  # default size of the swarm\n",
    "manual_mode = False  # manually press enter key to proceed between simulations"
   ]
  },
  {
   "cell_type": "code",
   "execution_count": 7,
   "metadata": {},
   "outputs": [],
   "source": [
    "def S14_closest_robot(robot_host, robot_neighbors):\n",
    "    # \"robot_host\": the robot to measure distance from\n",
    "    # \"robot_neighbors\": a list of robots to be compared with\n",
    "    robot_closest = robot_neighbors[0]\n",
    "    dist_closest = dist_table[robot_host,robot_closest]\n",
    "    for i in robot_neighbors[1:]:\n",
    "        dist_temp = dist_table[robot_host,i]\n",
    "        if dist_temp < dist_closest:\n",
    "            robot_closest = i\n",
    "            dist_closest = dist_temp\n",
    "    return robot_closest"
   ]
  },
  {
   "cell_type": "code",
   "execution_count": 574,
   "metadata": {},
   "outputs": [],
   "source": [
    "def check_amoeba(poses_t, poses, num_robots, step, thresh = 1):\n",
    "    centroid = getcenteroid(poses[:num_robots])\n",
    "    centroid_t = getcenteroid(poses_t[:num_robots])\n",
    "    print(centroid)\n",
    "    arr_radii = np.array([get_dist(centroid, p) for p in poses[:num_robots]])\n",
    "    arr_radii_t = np.array([get_dist(centroid, p) for p in poses_t[:num_robots]])\n",
    "    \n",
    "    delta_centroid = get_dist(centroid, centroid_t)\n",
    "    delta_radius = np.mean(arr_radii) - np.mean(arr_radii_t)\n",
    "    \n",
    "    if delta_centroid/step < thresh and delta_radius/np.mean(arr_radii_t) < thresh:\n",
    "        return True\n",
    "    return False\n",
    "    \n",
    "    \n",
    "\n",
    "# Function to get centroid\n",
    "def getcenteroid(arr):\n",
    "    length, dim = arr.shape\n",
    "    return np.array([np.sum(arr[:, i])/length for i in range(dim)])\n",
    "\n",
    "def get_dist(p1, p2):\n",
    "    return np.sqrt((p1[0] - p2[0]) ** 2 + (p1[1] - p2[1]) ** 2)"
   ]
  },
  {
   "cell_type": "code",
   "execution_count": 516,
   "metadata": {},
   "outputs": [],
   "source": [
    "# general function to steer robot away from wall if out of boundary (following physics)\n",
    "# use global variable \"world_side_length\"\n",
    "def robot_boundary_check(robot_pos, robot_ori):\n",
    "    new_ori = robot_ori\n",
    "    if robot_pos[0] >= world_side_length:  # outside of right boundary\n",
    "        if math.cos(new_ori) > 0:\n",
    "            new_ori = reset_radian(2*(math.pi/2) - new_ori)\n",
    "            # further check if new angle is too much perpendicular\n",
    "            if new_ori > 0:\n",
    "                if (math.pi - new_ori) < perp_thres:\n",
    "                    new_ori = new_ori - devia_angle\n",
    "            else:\n",
    "                if (new_ori + math.pi) < perp_thres:\n",
    "                    new_ori = new_ori + devia_angle\n",
    "    elif robot_pos[0] <= 0:  # outside of left boundary\n",
    "        if math.cos(new_ori) < 0:\n",
    "            new_ori = reset_radian(2*(math.pi/2) - new_ori)\n",
    "            if new_ori > 0:\n",
    "                if new_ori < perp_thres:\n",
    "                    new_ori = new_ori + devia_angle\n",
    "            else:\n",
    "                if (-new_ori) < perp_thres:\n",
    "                    new_ori = new_ori - devia_angle\n",
    "    if robot_pos[1] >= world_side_length:  # outside of top boundary\n",
    "        if math.sin(new_ori) > 0:\n",
    "            new_ori = reset_radian(2*(0) - new_ori)\n",
    "            if new_ori > -math.pi/2:\n",
    "                if (new_ori + math.pi/2) < perp_thres:\n",
    "                    new_ori = new_ori + devia_angle\n",
    "            else:\n",
    "                if (-math.pi/2 - new_ori) < perp_thres:\n",
    "                    new_ori = new_ori - devia_angle\n",
    "    elif robot_pos[1] <= 0:  # outside of bottom boundary\n",
    "        if math.sin(new_ori) < 0:\n",
    "            new_ori = reset_radian(2*(0) - new_ori)\n",
    "            if new_ori > math.pi/2:\n",
    "                if (new_ori - math.pi/2) < perp_thres:\n",
    "                    new_ori = new_ori + devia_angle\n",
    "            else:\n",
    "                if (math.pi/2 - new_ori) < perp_thres:\n",
    "                    new_ori = new_ori - devia_angle\n",
    "    return new_ori\n",
    "\n",
    "# general function to reset radian angle to [-pi, pi)\n",
    "def reset_radian(radian):\n",
    "    while radian >= math.pi:\n",
    "        radian = radian - 2*math.pi\n",
    "    while radian < -math.pi:\n",
    "        radian = radian + 2*math.pi\n",
    "    return radian"
   ]
  },
  {
   "cell_type": "code",
   "execution_count": 10,
   "metadata": {},
   "outputs": [],
   "source": [
    "# calculate world_side_coef from a desired screen size for 30 robots\n",
    "def cal_world_side_coef():\n",
    "    desired_screen_size = 400  # desired screen size for 30 robots\n",
    "    desired_world_size = float(desired_screen_size) / pixels_per_length\n",
    "    return desired_world_size / pow(3, 1/power_exponent)\n",
    "world_side_coef = cal_world_side_coef()\n",
    "world_side_length = world_side_coef * pow(swarm_size, 1/power_exponent)\n",
    "world_size = (world_side_length, world_side_length)  # square physical world\n",
    "# screen size calculated from world size\n",
    "screen_side_length = int(pixels_per_length * world_side_length)\n",
    "screen_size = (screen_side_length, screen_side_length)  # square display world"
   ]
  },
  {
   "cell_type": "code",
   "execution_count": 11,
   "metadata": {},
   "outputs": [],
   "source": [
    "# Function to create a unit vector from a given vector\n",
    "def unit_vector(vector):\n",
    "    return np.abs(vector / np.linalg.norm(vector))"
   ]
  },
  {
   "cell_type": "code",
   "execution_count": 12,
   "metadata": {},
   "outputs": [],
   "source": [
    "try:\n",
    "    pygame.display.quit()\n",
    "    pygame.quit()\n",
    "except:\n",
    "    pass\n",
    "pygame.init()\n",
    "\n",
    "font = pygame.font.SysFont(\"Cabin\", 12)\n",
    "\n",
    "screen = pygame.display.set_mode(screen_size)\n",
    "pygame.display.set_caption(\"Demo 1\")\n",
    "# draw the network\n",
    "screen.fill(color_white)\n",
    "\n",
    "pygame.display.update()\n"
   ]
  },
  {
   "cell_type": "code",
   "execution_count": 441,
   "metadata": {},
   "outputs": [],
   "source": [
    "def convert_coordinates(pos):\n",
    "    poses_temp = pos / world_side_length\n",
    "    poses_temp[1] = 1.0 - poses_temp[1]\n",
    "    poses_temp = poses_temp * screen_side_length\n",
    "    disp = poses_temp.astype(int) \n",
    "    return disp"
   ]
  },
  {
   "cell_type": "code",
   "execution_count": 560,
   "metadata": {},
   "outputs": [
    {
     "data": {
      "text/plain": [
       "(array([[1, 1],\n",
       "        [1, 1],\n",
       "        [1, 1],\n",
       "        [1, 1],\n",
       "        [1, 1],\n",
       "        [1, 1],\n",
       "        [1, 1]]),\n",
       " 0)"
      ]
     },
     "execution_count": 560,
     "metadata": {},
     "output_type": "execute_result"
    }
   ],
   "source": [
    "screen.fill(color_white)\n",
    "\n",
    "\n",
    "# # consensus configuration\n",
    "# loop_folder = \"loop-data2\"  # folder to store the loop shapes\n",
    "# shape_catalog = [\"airplane\", \"circle\", \"cross\", \"goblet\", \"hand\", \"K\", \"lamp\", \"square\",\n",
    "#     \"star\", \"triangle\", \"wrench\"]\n",
    "# shape_quantity = len(shape_catalog)  # the number of decisions\n",
    "# shape_decision = -1  # the index of chosen decision, in range(shape_quantity)\n",
    "#     # also the index in shape_catalog\n",
    "# assignment_scheme = np.zeros(swarm_size)\n",
    "# # variable to force shape to different choices, for video recording\n",
    "# force_shape_set = range(shape_quantity)\n",
    "\n",
    "step = 0.05\n",
    "\n",
    "# robot properties\n",
    "# robot_poses = np.random.rand(swarm_size, 2) * world_side_length  # initialize the robot poses\n",
    "robot_poses = np.array([[1,1] for i in range(swarm_size)])  # initialize the robot poses\n",
    "dist_table = np.zeros((swarm_size, swarm_size))  # distances between robots\n",
    "conn_table = np.zeros((swarm_size, swarm_size))  # connections between robots\n",
    "    # 0 for disconnected, 1 for connected\n",
    "conn_lists = [[] for i in range(swarm_size)]  # lists of robots connected\n",
    "# function for all simulations, update the distances and connections between the robots\n",
    "def dist_conn_update():\n",
    "    global dist_table\n",
    "    global conn_table\n",
    "    global conn_lists\n",
    "    conn_lists = [[] for i in range(swarm_size)]  # empty the lists\n",
    "    for i in range(swarm_size):\n",
    "        for j in range(i+1, swarm_size):\n",
    "            dist_temp = np.linalg.norm(robot_poses[i] - robot_poses[j])\n",
    "            dist_table[i,j] = dist_temp\n",
    "            dist_table[j,i] = dist_temp\n",
    "            if dist_temp > comm_range:\n",
    "                conn_table[i,j] = 0\n",
    "                conn_table[j,i] = 0\n",
    "            else:\n",
    "                conn_table[i,j] = 1\n",
    "                conn_table[j,i] = 1\n",
    "                conn_lists[i].append(j)\n",
    "                conn_lists[j].append(i)\n",
    "dist_conn_update()  # update the distances and connections\n",
    "disp_poses = []  # display positions\n",
    "# function for all simulations, update the display positions\n",
    "def disp_poses_update():\n",
    "    global disp_poses\n",
    "    poses_temp = robot_poses / world_side_length\n",
    "    poses_temp[:,1] = 1.0 - poses_temp[:,1]\n",
    "    poses_temp = poses_temp * screen_side_length\n",
    "    disp_poses = poses_temp.astype(int)  # convert to int and assign to disp_poses\n",
    "    # disp_poses = np.array([[0,0] for i in range(swarm_size)])  # \n",
    "disp_poses_update()\n",
    "# deciding the seed robots, used in simulations with moving robots\n",
    "seed_percentage = 0.1  # the percentage of seed robots in the swarm\n",
    "seed_quantity = min(max(int(swarm_size*seed_percentage), 1), swarm_size)\n",
    "    # no smaller than 1, and no larger than swarm_size\n",
    "robot_seeds = [False for i in range(swarm_size)]  # whether a robot is a seed robot\n",
    "    # only seed robot can initialize the forming a new group\n",
    "seed_list_temp = np.arange(swarm_size)\n",
    "np.random.shuffle(seed_list_temp)\n",
    "for i in seed_list_temp[:seed_quantity]:\n",
    "    robot_seeds[i] = True\n",
    "    \n",
    "current_swarm_size = 0  # the current swarm size\n",
    "sim_haulted = False\n",
    "# set up the simulation window\n",
    "\n",
    "disp_poses_update()\n",
    "\n",
    "robot_oris = np.random.rand(swarm_size) * 2 * math.pi - math.pi  # in range of [-pi, pi)\n",
    "\n",
    "\n",
    "for i in range(swarm_size):\n",
    "    pygame.draw.circle(screen, color_black, disp_poses[i], robot_size_formation,\n",
    "        robot_width_empty)\n",
    "    pygame.draw.circle(screen, color_black, disp_poses[i],\n",
    "        int(comm_range*pixels_per_length), 1)\n",
    "pygame.display.update()\n",
    "\n",
    "robot_poses, current_swarm_size"
   ]
  },
  {
   "cell_type": "code",
   "execution_count": 602,
   "metadata": {},
   "outputs": [
    {
     "name": "stdout",
     "output_type": "stream",
     "text": [
      "Halted = False, swarm size = 7\n",
      "current swarm size is: 7 out of 7\n",
      "[2.14285714 2.        ]\n",
      "[1.85714286 2.        ]\n",
      "[1.71428571 1.71428571]\n",
      "[1.71428571 1.85714286]\n",
      "[1.57142857 1.71428571]\n",
      "[1.57142857 1.57142857]\n",
      "[1.28571429 1.57142857]\n",
      "robot positions:  [[3 6]\n",
      " [0 1]\n",
      " [0 0]\n",
      " [0 2]\n",
      " [0 1]\n",
      " [6 0]\n",
      " [0 1]]\n"
     ]
    }
   ],
   "source": [
    "step = 2\n",
    "for i in range(1):\n",
    "    \n",
    "    for event in pygame.event.get():\n",
    "        if event.type == pygame.QUIT:  # close window button is clicked\n",
    "            print(\"program exit in simulation 1\")\n",
    "            sys.exit()  # exit the entire program\n",
    "        if event.type == pygame.KEYUP:\n",
    "            if event.key == pygame.K_SPACE:\n",
    "                sim_haulted = not sim_haulted  # reverse the pause flag\n",
    "    # if sim_haulted: continue\n",
    "    print(f\"Halted = {sim_haulted}, swarm size = {current_swarm_size}\")\n",
    "    print(f\"current swarm size is: {current_swarm_size} out of {swarm_size}\")\n",
    "    current_pos = robot_poses[0]\n",
    "    \n",
    "    robot_poses_t = robot_poses.copy()\n",
    "    if current_swarm_size == 0: pass #continue\n",
    "    elif current_swarm_size == 1:\n",
    "        # random_vector = unit_vector((np.random.rand(2)-0.5)*2)\n",
    "        point = np.random.randint(10, size=2)\n",
    "        robot_oris[i] = np.absolute(math.atan2(point[0], point[1]))\n",
    "        \n",
    "        robot_oris[i] = robot_boundary_check(robot_poses_t[i], robot_oris[i])\n",
    "        robot_poses[i] = robot_poses_t[i] + (step * np.array([math.cos(robot_oris[i]), math.sin(robot_oris[i])]))\n",
    "    else:\n",
    "        direction = (np.sum(robot_poses[:, 0]), np.sum(robot_poses[:, 1]))\n",
    "        \n",
    "        for i in range(current_swarm_size): \n",
    "            while True:\n",
    "                point = np.random.randint(-10, 10, size=2)\n",
    "                robot_oris[i] = math.atan2(point[0], point[1])\n",
    "                new = robot_poses.copy()\n",
    "                robot_oris[i] = robot_boundary_check(robot_poses_t[i], robot_oris[i])\n",
    "                new[i] = robot_poses_t[i] + (step * np.array([math.cos(robot_oris[i]), math.sin(robot_oris[i])]))\n",
    "                if check_amoeba(robot_poses_t, new, current_swarm_size+1, step, thresh=0.9):\n",
    "                    robot_poses = new\n",
    "                    break\n",
    "                \n",
    "        \n",
    "            \n",
    "    print(\"robot positions: \", robot_poses) \n",
    "    \n",
    "    if current_swarm_size < swarm_size:\n",
    "        current_swarm_size+=1 \n",
    "    disp_poses_update()\n",
    "    screen.fill(color_white)\n",
    "    \n",
    "    for i in range(swarm_size):\n",
    "        pygame.draw.circle(screen, color_black, disp_poses[i], robot_size_formation,\n",
    "            robot_width_empty)\n",
    "        pygame.draw.line(screen, color_grey, disp_poses[i], convert_coordinates(robot_poses[i]+np.array([math.cos(robot_oris[i]), math.sin(robot_oris[i])])*1))\n",
    "        \n",
    "        pygame.draw.circle(screen, color_black, disp_poses[i],\n",
    "            int(comm_range*pixels_per_length), 1)\n",
    "        \n",
    "    # Plot centroid\n",
    "    pygame.draw.circle(screen, color_red, convert_coordinates(getcenteroid(robot_poses[:current_swarm_size])), 4)\n",
    "    pygame.display.update()"
   ]
  },
  {
   "cell_type": "code",
   "execution_count": 119,
   "metadata": {},
   "outputs": [
    {
     "data": {
      "text/plain": [
       "array([[0., 0., 0., 0., 0., 0., 0.],\n",
       "       [0., 0., 0., 0., 0., 0., 0.],\n",
       "       [0., 0., 0., 0., 0., 0., 0.],\n",
       "       [0., 0., 0., 0., 0., 0., 0.],\n",
       "       [0., 0., 0., 0., 0., 0., 0.],\n",
       "       [0., 0., 0., 0., 0., 0., 0.],\n",
       "       [0., 0., 0., 0., 0., 0., 0.]])"
      ]
     },
     "execution_count": 119,
     "metadata": {},
     "output_type": "execute_result"
    }
   ],
   "source": [
    "dist_table"
   ]
  },
  {
   "cell_type": "code",
   "execution_count": 56,
   "metadata": {},
   "outputs": [
    {
     "data": {
      "text/plain": [
       "array([ 0.81159594, -0.58421916])"
      ]
     },
     "execution_count": 56,
     "metadata": {},
     "output_type": "execute_result"
    }
   ],
   "source": [
    "x"
   ]
  },
  {
   "cell_type": "code",
   "execution_count": 57,
   "metadata": {},
   "outputs": [
    {
     "data": {
      "text/plain": [
       "array([1.81159594, 0.41578084])"
      ]
     },
     "execution_count": 57,
     "metadata": {},
     "output_type": "execute_result"
    }
   ],
   "source": [
    "np.array([1,1])+x"
   ]
  },
  {
   "cell_type": "code",
   "execution_count": 581,
   "metadata": {},
   "outputs": [
    {
     "data": {
      "text/plain": [
       "array([  1, 768])"
      ]
     },
     "execution_count": 581,
     "metadata": {},
     "output_type": "execute_result"
    }
   ],
   "source": [
    "disp_poses[0] + np.array([1, 1])"
   ]
  },
  {
   "cell_type": "code",
   "execution_count": 63,
   "metadata": {},
   "outputs": [
    {
     "data": {
      "text/plain": [
       "array([[1, 1],\n",
       "       [1, 1],\n",
       "       [1, 1],\n",
       "       [1, 1],\n",
       "       [1, 1],\n",
       "       [1, 1],\n",
       "       [1, 1]])"
      ]
     },
     "execution_count": 63,
     "metadata": {},
     "output_type": "execute_result"
    }
   ],
   "source": [
    "robot_poses"
   ]
  },
  {
   "cell_type": "code",
   "execution_count": 64,
   "metadata": {},
   "outputs": [],
   "source": [
    "random_vector = unit_vector((np.random.rand(2)-0.5)*2)\n",
    "robot_poses[0] = current_pos + random_vector"
   ]
  },
  {
   "cell_type": "code",
   "execution_count": 148,
   "metadata": {},
   "outputs": [
    {
     "data": {
      "text/plain": [
       "-2.356194490192345"
      ]
     },
     "execution_count": 148,
     "metadata": {},
     "output_type": "execute_result"
    }
   ],
   "source": [
    "math.atan2(-1, -1)"
   ]
  },
  {
   "cell_type": "code",
   "execution_count": 577,
   "metadata": {},
   "outputs": [
    {
     "data": {
      "text/plain": [
       "array([[0, 0],\n",
       "       [2, 2],\n",
       "       [0, 2],\n",
       "       [1, 1],\n",
       "       [0, 3],\n",
       "       [0, 0],\n",
       "       [1, 0]])"
      ]
     },
     "execution_count": 577,
     "metadata": {},
     "output_type": "execute_result"
    }
   ],
   "source": [
    "robot_poses[:]"
   ]
  },
  {
   "cell_type": "code",
   "execution_count": null,
   "metadata": {},
   "outputs": [],
   "source": []
  }
 ],
 "metadata": {
  "interpreter": {
   "hash": "80abd1883e2bdb729655d48617bd9f4ab574f1992ae1ee484870355a6b9d98fc"
  },
  "kernelspec": {
   "display_name": "Python 3.7.9 64-bit ('pygame-swarm')",
   "language": "python",
   "name": "python3"
  },
  "language_info": {
   "codemirror_mode": {
    "name": "ipython",
    "version": 3
   },
   "file_extension": ".py",
   "mimetype": "text/x-python",
   "name": "python",
   "nbconvert_exporter": "python",
   "pygments_lexer": "ipython3",
   "version": "3.7.9"
  },
  "orig_nbformat": 4
 },
 "nbformat": 4,
 "nbformat_minor": 2
}
