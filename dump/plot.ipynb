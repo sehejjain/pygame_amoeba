{
 "cells": [
  {
   "cell_type": "code",
   "execution_count": 1,
   "metadata": {},
   "outputs": [
    {
     "name": "stdout",
     "output_type": "stream",
     "text": [
      "Requirement already satisfied: tqdm in /Users/sehej/.pyenv/versions/3.7.9/envs/pygame-swarm/lib/python3.7/site-packages (4.64.0)\n"
     ]
    }
   ],
   "source": [
    "import matplotlib.pyplot as plt, time\n",
    "import PyQt5\n",
    "# !pip install tqdm\n",
    "import sys, os, getopt, math, random, tqdm\n",
    "import numpy as np\n",
    "from constants import *\n",
    "%matplotlib qt\n",
    "plt.ion()\n",
    "np.set_printoptions(formatter={'float': lambda x: \"{0:0.3f}\".format(x)})\n"
   ]
  },
  {
   "cell_type": "code",
   "execution_count": 2,
   "metadata": {},
   "outputs": [],
   "source": [
    "np.random.seed(0)\n",
    "swarm_size = 10  # default size of the swarm\n",
    "manual_mode = False  # manually press enter key to proceed between simulations\n",
    "def S14_closest_robot(robot_host, robot_neighbors):\n",
    "    # \"robot_host\": the robot to measure distance from\n",
    "    # \"robot_neighbors\": a list of robots to be compared with\n",
    "    robot_closest = robot_neighbors[0]\n",
    "    dist_closest = dist_table[robot_host,robot_closest]\n",
    "    for i in robot_neighbors[1:]:\n",
    "        dist_temp = dist_table[robot_host,i]\n",
    "        if dist_temp < dist_closest:\n",
    "            robot_closest = i\n",
    "            dist_closest = dist_temp\n",
    "    return robot_closest\n",
    "\n",
    "def check_amoeba(poses_t, poses, num_robots, step, thresh = 1):\n",
    "    \"\"\"\n",
    "    Function to check if a given amoeboid swarm is amoeboid after movement of the swarm robots\n",
    "\n",
    "    Args:\n",
    "        poses_t (np.array): Original positions of the robots\n",
    "        poses (np.array): New positions of teh robors\n",
    "        num_robots (int): Number of robots currently in the swarm\n",
    "        step (float): step moving distance\n",
    "        thresh (float, optional): threshold value for centroid and distance from centroid conditions. Defaults to 1.\n",
    "\n",
    "    Returns:\n",
    "        bool: True if the new swarm is amoeboid, False otherwise\n",
    "    \"\"\"    \n",
    "    centroid = getcenteroid(poses[:num_robots])\n",
    "    centroid_t = getcenteroid(poses_t[:num_robots])\n",
    "    # print(centroid)\n",
    "    arr_radii = np.array([get_dist(centroid, p) for p in poses[:num_robots]])\n",
    "    arr_radii_t = np.array([get_dist(centroid, p) for p in poses_t[:num_robots]])\n",
    "    \n",
    "    delta_centroid = get_dist(centroid, centroid_t)\n",
    "    delta_radius = np.mean(arr_radii) - np.mean(arr_radii_t)\n",
    "    \n",
    "    if delta_centroid/step < thresh and delta_radius/np.mean(arr_radii_t) < thresh:\n",
    "        return True\n",
    "    return False\n",
    "    \n",
    "# Function to create a unit vector from a given vector\n",
    "def unit_vector(vector):\n",
    "    return vector / np.linalg.norm(vector)\n",
    "\n",
    "# Function to get centroid\n",
    "def getcenteroid(arr):\n",
    "    length, dim = arr.shape\n",
    "    return np.array([np.sum(arr[:, i])/length for i in range(dim)])\n",
    "\n",
    "def get_dist(p1, p2):\n",
    "    return np.sqrt((p1[0] - p2[0]) ** 2 + (p1[1] - p2[1]) ** 2)\n",
    "\n",
    "def euclidean_distance(a, b):\n",
    "    \"\"\"Euclidean Distance\n",
    "\n",
    "    Args:\n",
    "        a (np.array): a\n",
    "        b (np.array): b\n",
    "\n",
    "    Returns:\n",
    "        float: dist\n",
    "    \"\"\"\n",
    "    return np.linalg.norm(a-b)\n"
   ]
  },
  {
   "cell_type": "code",
   "execution_count": 3,
   "metadata": {},
   "outputs": [],
   "source": [
    "# general function to steer robot away from wall if out of boundary (following physics)\n",
    "# use global variable \"world_side_length\"\n",
    "def robot_boundary_check(robot_pos, robot_ori):\n",
    "    world_side_length=30\n",
    "    new_ori = robot_ori\n",
    "    if robot_pos[0] >= world_side_length:  # outside of right boundary\n",
    "        if math.cos(new_ori) > 0:\n",
    "            new_ori = reset_radian(2*(math.pi/2) - new_ori)\n",
    "            # further check if new angle is too much perpendicular\n",
    "            if new_ori > 0:\n",
    "                if (math.pi - new_ori) < perp_thres:\n",
    "                    new_ori = new_ori - devia_angle\n",
    "            else:\n",
    "                if (new_ori + math.pi) < perp_thres:\n",
    "                    new_ori = new_ori + devia_angle\n",
    "    elif robot_pos[0] <= 0:  # outside of left boundary\n",
    "        if math.cos(new_ori) < 0:\n",
    "            new_ori = reset_radian(2*(math.pi/2) - new_ori)\n",
    "            if new_ori > 0:\n",
    "                if new_ori < perp_thres:\n",
    "                    new_ori = new_ori + devia_angle\n",
    "            else:\n",
    "                if (-new_ori) < perp_thres:\n",
    "                    new_ori = new_ori - devia_angle\n",
    "    if robot_pos[1] >= world_side_length:  # outside of top boundary\n",
    "        if math.sin(new_ori) > 0:\n",
    "            new_ori = reset_radian(2*(0) - new_ori)\n",
    "            if new_ori > -math.pi/2:\n",
    "                if (new_ori + math.pi/2) < perp_thres:\n",
    "                    new_ori = new_ori + devia_angle\n",
    "            else:\n",
    "                if (-math.pi/2 - new_ori) < perp_thres:\n",
    "                    new_ori = new_ori - devia_angle\n",
    "    elif robot_pos[1] <= 0:  # outside of bottom boundary\n",
    "        if math.sin(new_ori) < 0:\n",
    "            new_ori = reset_radian(2*(0) - new_ori)\n",
    "            if new_ori > math.pi/2:\n",
    "                if (new_ori - math.pi/2) < perp_thres:\n",
    "                    new_ori = new_ori + devia_angle\n",
    "            else:\n",
    "                if (math.pi/2 - new_ori) < perp_thres:\n",
    "                    new_ori = new_ori - devia_angle\n",
    "    return new_ori\n",
    "\n",
    "# # general function to steer robot away from wall if out of boundary (in random direction)\n",
    "# # use global variable \"world_side_length\"\n",
    "# def robot_boundary_check(robot_pos, robot_ori):\n",
    "#     new_ori = robot_ori\n",
    "#     if robot_pos[0] >= world_side_length:  # outside of right boundary\n",
    "#         if math.cos(new_ori) > 0:\n",
    "#             new_ori = reset_radian(math.pi/2 + np.random.uniform(0,math.pi))\n",
    "#     elif robot_pos[0] <= 0:  # outside of left boundary\n",
    "#         if math.cos(new_ori) < 0:\n",
    "#             new_ori = reset_radian(-math.pi/2 + np.random.uniform(0,math.pi))\n",
    "#     if robot_pos[1] >= world_side_length:  # outside of top boundary\n",
    "#         if math.sin(new_ori) > 0:\n",
    "#             new_ori = reset_radian(-math.pi + np.random.uniform(0,math.pi))\n",
    "#     elif robot_pos[1] <= 0:  # outside of bottom boundary\n",
    "#         if math.sin(new_ori) < 0:\n",
    "#             new_ori = reset_radian(0 + np.random.uniform(0,math.pi))\n",
    "#     return new_ori\n",
    "\n",
    "# general function to reset radian angle to [-pi, pi)\n",
    "def reset_radian(radian):\n",
    "    while radian >= math.pi:\n",
    "        radian = radian - 2*math.pi\n",
    "    while radian < -math.pi:\n",
    "        radian = radian + 2*math.pi\n",
    "    return radian"
   ]
  },
  {
   "cell_type": "code",
   "execution_count": 4,
   "metadata": {},
   "outputs": [],
   "source": [
    "# calculate world_side_coef from a desired screen size for 30 robots\n",
    "def cal_world_side_coef():\n",
    "    desired_screen_size = 500  # desired screen size for 30 robots\n",
    "    desired_world_size = float(desired_screen_size) / pixels_per_length\n",
    "    return desired_world_size / pow(30, 1/power_exponent)\n",
    "world_side_coef = cal_world_side_coef()\n",
    "# world_side_length = world_side_coef * pow(swarm_size, 1/power_exponent)\n",
    "world_side_length = world_side_coef * pow(30, 1/power_exponent)\n",
    "world_size = (world_side_length, world_side_length)  # square physical world\n",
    "# screen size calculated from world size\n",
    "screen_side_length = int(pixels_per_length * world_side_length)\n",
    "screen_size = (screen_side_length, screen_side_length)  # square display world"
   ]
  },
  {
   "cell_type": "code",
   "execution_count": 67,
   "metadata": {},
   "outputs": [],
   "source": [
    "\n",
    "def plot_swarm(robot_poses, size, prev=None):\n",
    "    plt.clf()\n",
    "    plt.rcParams[\"figure.figsize\"] = [7.00, 7]\n",
    "    plt.rcParams[\"figure.autolayout\"] = True\n",
    "    plt.xlim(0, 30)\n",
    "    plt.ylim(0, 30)\n",
    "    centroid = (np.sum(robot_poses[:, 0])/robot_poses.shape[0], np.sum(robot_poses[:, 1])/robot_poses.shape[0])\n",
    "    plt.plot(centroid[0], centroid[1], marker=\"x\")\n",
    "    for robot in range(len(robot_poses[:size])):\n",
    "        plt.plot(robot_poses[robot, 0], robot_poses[robot, 1], marker=\"o\", markersize=4, markeredgecolor=\"red\", markerfacecolor=\"green\")\n",
    "        \n",
    "        # # plot direction\n",
    "        # vector = np.array([math.cos(robot_oris[robot]), math.sin(robot_oris[robot])])\n",
    "        # # print(robot_poses[robot, 0], robot_poses[robot, 0]+vector[0])\n",
    "        # x_val = [robot_poses[robot, 0], robot_poses[robot, 0]+vector[0]]\n",
    "        # y_val = [robot_poses[robot, 1], robot_poses[robot, 1]+vector[1]]\n",
    "        # plt.plot(x_val, y_val)\n",
    "        \n",
    "    if prev is not None:\n",
    "        for line in prev:\n",
    "            x_val = [x[0] for x in line]\n",
    "            y_val = [x[1] for x in line]\n",
    "            plt.plot(x_val, y_val)\n",
    "        \n",
    "    # print(x_val)\n",
    "plot_swarm(robot_poses, current_swarm_size, past)"
   ]
  },
  {
   "cell_type": "code",
   "execution_count": 6,
   "metadata": {},
   "outputs": [],
   "source": [
    "def get_swarm_vector(robot_oris):\n",
    "    vector = np.array([0.0,0.0])\n",
    "    for ori in robot_oris:\n",
    "        vec = np.array([math.cos(ori), math.sin(ori)])\n",
    "        vector += vec\n",
    "    return vector\n",
    "\n",
    "def get_radial_distance(robot_poses, current_swarm_size):\n",
    "    centroid = np.array([np.sum(robot_poses[:, 0]), np.sum(robot_poses[:, 1])])/current_swarm_size\n",
    "    radial_dist = 0\n",
    "    for robot in range(current_swarm_size):\n",
    "        radial_dist+= euclidean_distance(centroid, robot_poses[robot])\n",
    "        \n",
    "    return radial_dist"
   ]
  },
  {
   "cell_type": "code",
   "execution_count": 54,
   "metadata": {},
   "outputs": [],
   "source": [
    "# screen.fill(color_white)\n",
    "\n",
    "# robot properties\n",
    "# robot_poses = np.random.rand(swarm_size, 2) * world_side_length  # initialize the robot poses\n",
    "robot_poses = np.array([[1.0,1.0] for i in range(swarm_size)])  # initialize the robot poses\n",
    "dist_table = np.zeros((swarm_size, swarm_size))  # distances between robots\n",
    "conn_table = np.zeros((swarm_size, swarm_size))  # connections between robots\n",
    "    # 0 for disconnected, 1 for connected\n",
    "conn_lists = [[] for i in range(swarm_size)]  # lists of robots connected\n",
    "# function for all simulations, update the distances and connections between the robots\n",
    "def dist_conn_update():\n",
    "    global dist_table\n",
    "    global conn_table\n",
    "    global conn_lists\n",
    "    conn_lists = [[] for i in range(swarm_size)]  # empty the lists\n",
    "    for i in range(swarm_size):\n",
    "        for j in range(i+1, swarm_size):\n",
    "            dist_temp = np.linalg.norm(robot_poses[i] - robot_poses[j])\n",
    "            dist_table[i,j] = dist_temp\n",
    "            dist_table[j,i] = dist_temp\n",
    "            if dist_temp > comm_range:\n",
    "                conn_table[i,j] = 0\n",
    "                conn_table[j,i] = 0\n",
    "            else:\n",
    "                conn_table[i,j] = 1\n",
    "                conn_table[j,i] = 1\n",
    "                conn_lists[i].append(j)\n",
    "                conn_lists[j].append(i)\n",
    "dist_conn_update()  # update the distances and connections\n",
    "disp_poses = []  # display positions\n",
    "# function for all simulations, update the display positions\n",
    "def disp_poses_update():\n",
    "    global disp_poses\n",
    "    poses_temp = robot_poses / world_side_length\n",
    "    poses_temp[:,1] = 1.0 - poses_temp[:,1]\n",
    "    poses_temp = poses_temp * screen_side_length\n",
    "    disp_poses = poses_temp.astype(int)  # convert to int and assign to disp_poses\n",
    "    # disp_poses = np.array([[0,0] for i in range(swarm_size)])  # \n",
    "disp_poses_update()\n",
    "# deciding the seed robots, used in simulations with moving robots\n",
    "seed_percentage = 0.1  # the percentage of seed robots in the swarm\n",
    "seed_quantity = min(max(int(swarm_size*seed_percentage), 1), swarm_size)\n",
    "    # no smaller than 1, and no larger than swarm_size\n",
    "robot_seeds = [False for i in range(swarm_size)]  # whether a robot is a seed robot\n",
    "    # only seed robot can initialize the forming a new group\n",
    "seed_list_temp = np.arange(swarm_size)\n",
    "np.random.shuffle(seed_list_temp)\n",
    "for i in seed_list_temp[:seed_quantity]:\n",
    "    robot_seeds[i] = True\n",
    "    \n",
    "current_swarm_size = 1  # the current swarm size\n",
    "sim_haulted = False\n",
    "# set up the simulation window\n",
    "\n",
    "disp_poses_update()\n",
    "\n",
    "# robot_oris = np.random.rand(swarm_size) * 2 * math.pi - math.pi  # in range of [-pi, pi)\n",
    "\n",
    "robot_oris = np.random.rand(swarm_size) * math.pi/2   # in range of [0, pi/2)\n",
    "# use step moving distance in each update, instead of calculating from robot velocity\n",
    "# so to make it independent of simulation frequency control\n",
    "step_moving_dist = 0.05  # should be smaller than destination distance error\n",
    "destination_error = 0.1\n",
    "mov_vec_ratio = 0.5  # ratio used when calculating mov vector\n",
    "# spring constants in SMA\n",
    "linear_const = 1.0\n",
    "bend_const = 0.8\n",
    "disp_coef = 0.5\n",
    "# for avoiding space too small on loop\n",
    "space_good_thres = desired_space * 0.85\n",
    "\n",
    "past = []\n",
    "plot_swarm(robot_poses, current_swarm_size)"
   ]
  },
  {
   "cell_type": "code",
   "execution_count": 72,
   "metadata": {},
   "outputs": [
    {
     "name": "stderr",
     "output_type": "stream",
     "text": [
      "100%|██████████| 15/15 [00:20<00:00,  1.37s/it]\n"
     ]
    }
   ],
   "source": [
    "step = 5.0\n",
    "# init = 100\n",
    "delta_c = 1.5\n",
    "delta_r = 1.5\n",
    "step_normal = 3.0\n",
    "swarm_ori = np.random.random()*math.pi\n",
    "\n",
    "for iter in tqdm.trange(15):\n",
    "\n",
    "    centroid = np.array([np.sum(robot_poses[:, 0]), np.sum(robot_poses[:, 1])])/current_swarm_size\n",
    "    # print(centroid)\n",
    "    robot_poses_t = robot_poses.copy()  # stores the old copy of robot positions\n",
    "    if current_swarm_size == 0: pass #continue\n",
    "    elif current_swarm_size < 3:\n",
    "        old_centroid = np.array([1,1])\n",
    "        # random_vector = unit_vector((np.random.rand(2)-0.5)*2)\n",
    "        for j in range(current_swarm_size):\n",
    "        \n",
    "            robot_oris[j] = robot_boundary_check(robot_poses_t[j], robot_oris[j])\n",
    "            robot_poses[j] = robot_poses_t[j] + (step/5 * np.array([math.cos(robot_oris[j]), math.sin(robot_oris[j])]))\n",
    "            past.append((robot_poses[j], robot_poses_t[j]))\n",
    "        old_centroid = centroid\n",
    "        changed_distance = euclidean_distance(old_centroid, centroid)\n",
    "        old_radial = get_radial_distance(robot_poses, current_swarm_size)\n",
    "        \n",
    "    else:\n",
    "        # Add robot to swarm\n",
    "        if current_swarm_size < swarm_size:\n",
    "\n",
    "            j = current_swarm_size\n",
    "            robot_oris[j] = robot_boundary_check(robot_poses_t[j], robot_oris[j])\n",
    "            robot_poses[j] = robot_poses_t[j] + (step * np.array([math.cos(robot_oris[j]), math.sin(robot_oris[j])]))\n",
    "        \n",
    "        # Pseudopod Grouping\n",
    "        robot_ids = list(range(current_swarm_size))\n",
    "        for div in range(current_swarm_size//3):\n",
    "            init = np.random.choice(robot_ids)\n",
    "            # print(\"Robot chosen is: \", init)\n",
    "            robot_ids.remove(init)\n",
    "            closest = S14_closest_robot(init, robot_ids)\n",
    "            robot_ids.remove(closest)\n",
    "            # print(\"closest robot id is: \", closest)\n",
    "            \n",
    "            # Choose another robot that is closest to the two\n",
    "            closest1 = S14_closest_robot(init, robot_ids)\n",
    "            closest2 = S14_closest_robot(closest, robot_ids)\n",
    "            if closest1 == closest2:\n",
    "                triad = [init, closest, closest1]\n",
    "            else:\n",
    "                if dist_table[init, closest1] < dist_table[closest, closest2]:\n",
    "                    triad = [init, closest, closest1]\n",
    "                    robot_ids.remove(closest1)\n",
    "                else:\n",
    "                    triad = [init, closest, closest2]\n",
    "                    robot_ids.remove(closest2)\n",
    "            # print(\"triad is: \", triad) # Direction of Last robot in this list is updated, other two are pseudopods\n",
    "            dist = [euclidean_distance(robot_poses[triad[i]], centroid) for i in range(len(triad))]\n",
    "            \n",
    "            # dist.sort(reverse=True)\n",
    "            vector1 = np.array([math.cos(robot_oris[triad[0]]), math.sin(robot_oris[triad[0]])])\n",
    "            vector2 = np.array([math.cos(robot_oris[triad[1]]), math.sin(robot_oris[triad[1]])])\n",
    "            \n",
    "            current_vector = np.array([math.cos(robot_oris[triad[2]]), math.sin(robot_oris[triad[2]])])\n",
    "            random_ori = np.random.random()* math.pi\n",
    "            random_vector = np.array([math.cos(random_ori), math.sin(random_ori)])\n",
    "            centroid_vector = np.array(centroid) - np.array(robot_poses[triad[2]])\n",
    "            avg_vector = get_swarm_vector(robot_oris)\n",
    "            \n",
    "            vector = 4*np.random.random()*(vector1 + vector2) + 2 * np.random.random()* current_vector + np.random.random() * centroid_vector + np.random.random() * avg_vector + np.random.random()*random_vector\n",
    "            \n",
    "            \n",
    "            robot_oris[triad[2]] = math.atan2(vector[1], vector[0])\n",
    "            # print(vector)\n",
    "            # robot_oris[triad[2]] = math.atan2(new[1], new[0])\n",
    "\n",
    "            step_dist = 0\n",
    "            coord_old = robot_poses[triad[2]]\n",
    "            \n",
    "            sum_coord = sum(robot_poses[:current_swarm_size])\n",
    "            \n",
    "            robot_oris[triad[2]] = robot_boundary_check(robot_poses_t[triad[2]], robot_oris[triad[2]])\n",
    "            \n",
    "            for step_candidate in np.linspace(step/2, step, 10):\n",
    "                new_pos = robot_poses_t[triad[2]] + (step_candidate * np.array([math.cos(robot_oris[triad[2]]), math.sin(robot_oris[triad[2]])]))\n",
    "                new_centroid = np.array(np.sum(new_pos), np.sum(new_pos))/current_swarm_size\n",
    "                # print(euclidean_distance(old_centroid, centroid))\n",
    "                if euclidean_distance(new_centroid, centroid)/changed_distance < delta_c:\n",
    "                    break\n",
    "                \n",
    "            changed_distance = euclidean_distance(new_centroid, centroid) - euclidean_distance(old_centroid, centroid)\n",
    "            robot_poses[triad[2]] = new_pos\n",
    "            centroid = np.array([np.sum(robot_poses[:, 0]), np.sum(robot_poses[:, 1])])/current_swarm_size\n",
    "            past.append((robot_poses[triad[2]], robot_poses_t[triad[2]]))\n",
    "            \n",
    "            # robot_oris[triad[2]] = robot_boundary_check(robot_poses_t[triad[2]], robot_oris[triad[2]])\n",
    "            # robot_poses[triad[2]] = robot_poses_t[triad[2]] + (step * np.array([math.cos(robot_oris[triad[2]]), math.sin(robot_oris[triad[2]])]))\n",
    "            \n",
    "        curr_radial_dist = get_radial_distance(robot_poses, current_swarm_size)\n",
    "        # print(robot_ids)\n",
    "        robot_ids.sort(key=lambda x: get_dist(centroid, robot_poses[x]), reverse=True)\n",
    "        for robot in robot_ids:\n",
    "            current_vector = np.array([math.cos(robot_oris[robot]), math.sin(robot_oris[robot])])\n",
    "            centroid_vector = np.array(centroid) - np.array(robot_poses[robot])\n",
    "            final_vector = np.random.random()* current_vector+np.random.random()*centroid_vector\n",
    "            \n",
    "            ori = math.atan2(final_vector[1], final_vector[0])\n",
    "            ori = robot_boundary_check(robot_poses_t[robot], ori)\n",
    "            \n",
    "            for step_candidate in np.linspace(step, step/2, 10):\n",
    "                new_pos = robot_poses_t[robot] + (step_candidate * np.array([math.cos(ori), math.sin(ori)]))\n",
    "                new_radial = curr_radial_dist - euclidean_distance(centroid, robot_poses_t[robot])+ euclidean_distance(centroid, new_pos)\n",
    "                \n",
    "                if (new_radial)/old_radial < delta_r:\n",
    "                    robot_poses[robot] = new_pos\n",
    "                    past.append((robot_poses[robot], robot_poses_t[robot]))\n",
    "\n",
    "            centroid = np.array([np.sum(robot_poses[:, 0]), np.sum(robot_poses[:, 1])])/current_swarm_size\n",
    "            \n",
    "        \n",
    "        old_radial = new_radial\n",
    "    old_centroid = centroid\n",
    "    prev = robot_poses_t[:(current_swarm_size-1)] if current_swarm_size < swarm_size else robot_poses_t\n",
    "    # print(\"previous robot positions: \", prev)         \n",
    "    # print(\"robot positions: \", robot_poses[:current_swarm_size]) \n",
    "    \n",
    "    if current_swarm_size < swarm_size:\n",
    "        current_swarm_size+=1 \n",
    "    dist_conn_update()\n",
    "    disp_poses_update()\n",
    "    plt.clf()\n",
    "    plot_swarm(robot_poses, current_swarm_size, past)\n",
    "    # time.sleep(1)\n",
    "    # disp_poses=robot_poses"
   ]
  },
  {
   "cell_type": "code",
   "execution_count": 673,
   "metadata": {},
   "outputs": [],
   "source": [
    "plot_swarm(robot_poses, current_swarm_size, past)\n",
    "# plot_swarm(robot_poses, current_swarm_size)\n"
   ]
  },
  {
   "cell_type": "code",
   "execution_count": 645,
   "metadata": {},
   "outputs": [
    {
     "data": {
      "text/plain": [
       "array([0.000])"
      ]
     },
     "execution_count": 645,
     "metadata": {},
     "output_type": "execute_result"
    }
   ],
   "source": [
    "np.array([get_dist(centroid, p) for p in robot_poses_t[:current_swarm_size]])"
   ]
  },
  {
   "cell_type": "code",
   "execution_count": 646,
   "metadata": {},
   "outputs": [
    {
     "data": {
      "text/plain": [
       "array([10.551, 3.963])"
      ]
     },
     "execution_count": 646,
     "metadata": {},
     "output_type": "execute_result"
    }
   ],
   "source": [
    "np.array([np.sum(robot_poses[:, 0]), np.sum(robot_poses[:, 1])])/current_swarm_size"
   ]
  },
  {
   "cell_type": "code",
   "execution_count": 647,
   "metadata": {},
   "outputs": [
    {
     "data": {
      "text/plain": [
       "array([2.500, 2.778, 3.056, 3.333, 3.611, 3.889, 4.167, 4.444, 4.722,\n",
       "       5.000])"
      ]
     },
     "execution_count": 647,
     "metadata": {},
     "output_type": "execute_result"
    }
   ],
   "source": [
    "np.linspace(2.5, 5, 10)"
   ]
  },
  {
   "cell_type": "code",
   "execution_count": 648,
   "metadata": {},
   "outputs": [
    {
     "data": {
      "text/plain": [
       "array([9.596, 3.667])"
      ]
     },
     "execution_count": 648,
     "metadata": {},
     "output_type": "execute_result"
    }
   ],
   "source": [
    "np.array(centroid)/current_swarm_size"
   ]
  },
  {
   "cell_type": "code",
   "execution_count": 649,
   "metadata": {},
   "outputs": [
    {
     "data": {
      "text/plain": [
       "0.771359918862401"
      ]
     },
     "execution_count": 649,
     "metadata": {},
     "output_type": "execute_result"
    }
   ],
   "source": [
    "np.random.random()"
   ]
  },
  {
   "cell_type": "code",
   "execution_count": null,
   "metadata": {},
   "outputs": [],
   "source": []
  },
  {
   "cell_type": "code",
   "execution_count": 650,
   "metadata": {},
   "outputs": [
    {
     "data": {
      "text/plain": [
       "2"
      ]
     },
     "execution_count": 650,
     "metadata": {},
     "output_type": "execute_result"
    }
   ],
   "source": [
    "7//3\n"
   ]
  },
  {
   "cell_type": "code",
   "execution_count": 52,
   "metadata": {},
   "outputs": [
    {
     "data": {
      "text/plain": [
       "array([-0.173, 0.985])"
      ]
     },
     "execution_count": 52,
     "metadata": {},
     "output_type": "execute_result"
    }
   ],
   "source": [
    "random_ori = np.random.random()* math.pi\n",
    "random_vector = np.array([math.cos(random_ori), math.sin(random_ori)])\n",
    "random_vector"
   ]
  },
  {
   "cell_type": "code",
   "execution_count": null,
   "metadata": {},
   "outputs": [],
   "source": []
  }
 ],
 "metadata": {
  "interpreter": {
   "hash": "80abd1883e2bdb729655d48617bd9f4ab574f1992ae1ee484870355a6b9d98fc"
  },
  "kernelspec": {
   "display_name": "Python 3.7.9 64-bit ('pygame-swarm')",
   "language": "python",
   "name": "python3"
  },
  "language_info": {
   "codemirror_mode": {
    "name": "ipython",
    "version": 3
   },
   "file_extension": ".py",
   "mimetype": "text/x-python",
   "name": "python",
   "nbconvert_exporter": "python",
   "pygments_lexer": "ipython3",
   "version": "3.7.9"
  },
  "orig_nbformat": 4
 },
 "nbformat": 4,
 "nbformat_minor": 2
}
