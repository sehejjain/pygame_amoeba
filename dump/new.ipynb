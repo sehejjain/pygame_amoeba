{
 "cells": [
  {
   "cell_type": "code",
   "execution_count": 1,
   "metadata": {},
   "outputs": [
    {
     "name": "stdout",
     "output_type": "stream",
     "text": [
      "pygame 2.1.2 (SDL 2.0.18, Python 3.7.9)\n",
      "Hello from the pygame community. https://www.pygame.org/contribute.html\n"
     ]
    }
   ],
   "source": [
    "import pygame, time\n",
    "import sys, os, getopt, math, random\n",
    "import numpy as np\n",
    "from constants import *"
   ]
  },
  {
   "cell_type": "code",
   "execution_count": 2,
   "metadata": {},
   "outputs": [],
   "source": [
    "swarm_size = 3  # default size of the swarm\n",
    "manual_mode = False  # manually press enter key to proceed between simulations"
   ]
  },
  {
   "cell_type": "code",
   "execution_count": 3,
   "metadata": {},
   "outputs": [],
   "source": [
    "def S14_closest_robot(robot_host, robot_neighbors):\n",
    "    # \"robot_host\": the robot to measure distance from\n",
    "    # \"robot_neighbors\": a list of robots to be compared with\n",
    "    robot_closest = robot_neighbors[0]\n",
    "    dist_closest = dist_table[robot_host,robot_closest]\n",
    "    for i in robot_neighbors[1:]:\n",
    "        dist_temp = dist_table[robot_host,i]\n",
    "        if dist_temp < dist_closest:\n",
    "            robot_closest = i\n",
    "            dist_closest = dist_temp\n",
    "    return robot_closest"
   ]
  },
  {
   "cell_type": "code",
   "execution_count": 130,
   "metadata": {},
   "outputs": [],
   "source": [
    "def check_amoeba(poses_t, poses, num_robots, step, thresh = 1):\n",
    "    \"\"\"\n",
    "    Function to check if a given amoeboid swarm is amoeboid after movement of the swarm robots\n",
    "\n",
    "    Args:\n",
    "        poses_t (np.array): Original positions of the robots\n",
    "        poses (np.array): New positions of teh robors\n",
    "        num_robots (int): Number of robots currently in the swarm\n",
    "        step (float): step moving distance\n",
    "        thresh (float, optional): threshold value for centroid and distance from centroid conditions. Defaults to 1.\n",
    "\n",
    "    Returns:\n",
    "        bool: True if the new swarm is amoeboid, False otherwise\n",
    "    \"\"\"    \n",
    "    centroid = getcenteroid(poses[:num_robots])\n",
    "    centroid_t = getcenteroid(poses_t[:num_robots])\n",
    "    # print(centroid)\n",
    "    arr_radii = np.array([get_dist(centroid, p) for p in poses[:num_robots]])\n",
    "    arr_radii_t = np.array([get_dist(centroid, p) for p in poses_t[:num_robots]])\n",
    "    \n",
    "    delta_centroid = get_dist(centroid, centroid_t)\n",
    "    delta_radius = np.mean(arr_radii) - np.mean(arr_radii_t)\n",
    "    \n",
    "    if delta_centroid/step < thresh and delta_radius/np.mean(arr_radii_t) < thresh:\n",
    "        return True\n",
    "    return False\n",
    "    \n",
    "    \n",
    "\n",
    "# Function to get centroid\n",
    "def getcenteroid(arr):\n",
    "    length, dim = arr.shape\n",
    "    return np.array([np.sum(arr[:, i])/length for i in range(dim)])\n",
    "\n",
    "def get_dist(p1, p2):\n",
    "    return np.sqrt((p1[0] - p2[0]) ** 2 + (p1[1] - p2[1]) ** 2)\n",
    "\n",
    "def euclidean_distance(a, b):\n",
    "    \"\"\"Euclidean Distance\n",
    "\n",
    "    Args:\n",
    "        a (np.array): a\n",
    "        b (np.array): b\n",
    "\n",
    "    Returns:\n",
    "        float: dist\n",
    "    \"\"\"\n",
    "    return np.linalg.norm(a-b)\n"
   ]
  },
  {
   "cell_type": "code",
   "execution_count": 5,
   "metadata": {},
   "outputs": [],
   "source": [
    "# general function to steer robot away from wall if out of boundary (following physics)\n",
    "# use global variable \"world_side_length\"\n",
    "def robot_boundary_check(robot_pos, robot_ori):\n",
    "    new_ori = robot_ori\n",
    "    if robot_pos[0] >= world_side_length:  # outside of right boundary\n",
    "        if math.cos(new_ori) > 0:\n",
    "            new_ori = reset_radian(2*(math.pi/2) - new_ori)\n",
    "            # further check if new angle is too much perpendicular\n",
    "            if new_ori > 0:\n",
    "                if (math.pi - new_ori) < perp_thres:\n",
    "                    new_ori = new_ori - devia_angle\n",
    "            else:\n",
    "                if (new_ori + math.pi) < perp_thres:\n",
    "                    new_ori = new_ori + devia_angle\n",
    "    elif robot_pos[0] <= 0:  # outside of left boundary\n",
    "        if math.cos(new_ori) < 0:\n",
    "            new_ori = reset_radian(2*(math.pi/2) - new_ori)\n",
    "            if new_ori > 0:\n",
    "                if new_ori < perp_thres:\n",
    "                    new_ori = new_ori + devia_angle\n",
    "            else:\n",
    "                if (-new_ori) < perp_thres:\n",
    "                    new_ori = new_ori - devia_angle\n",
    "    if robot_pos[1] >= world_side_length:  # outside of top boundary\n",
    "        if math.sin(new_ori) > 0:\n",
    "            new_ori = reset_radian(2*(0) - new_ori)\n",
    "            if new_ori > -math.pi/2:\n",
    "                if (new_ori + math.pi/2) < perp_thres:\n",
    "                    new_ori = new_ori + devia_angle\n",
    "            else:\n",
    "                if (-math.pi/2 - new_ori) < perp_thres:\n",
    "                    new_ori = new_ori - devia_angle\n",
    "    elif robot_pos[1] <= 0:  # outside of bottom boundary\n",
    "        if math.sin(new_ori) < 0:\n",
    "            new_ori = reset_radian(2*(0) - new_ori)\n",
    "            if new_ori > math.pi/2:\n",
    "                if (new_ori - math.pi/2) < perp_thres:\n",
    "                    new_ori = new_ori + devia_angle\n",
    "            else:\n",
    "                if (math.pi/2 - new_ori) < perp_thres:\n",
    "                    new_ori = new_ori - devia_angle\n",
    "    return new_ori\n",
    "\n",
    "# # general function to steer robot away from wall if out of boundary (in random direction)\n",
    "# # use global variable \"world_side_length\"\n",
    "# def robot_boundary_check(robot_pos, robot_ori):\n",
    "#     new_ori = robot_ori\n",
    "#     if robot_pos[0] >= world_side_length:  # outside of right boundary\n",
    "#         if math.cos(new_ori) > 0:\n",
    "#             new_ori = reset_radian(math.pi/2 + np.random.uniform(0,math.pi))\n",
    "#     elif robot_pos[0] <= 0:  # outside of left boundary\n",
    "#         if math.cos(new_ori) < 0:\n",
    "#             new_ori = reset_radian(-math.pi/2 + np.random.uniform(0,math.pi))\n",
    "#     if robot_pos[1] >= world_side_length:  # outside of top boundary\n",
    "#         if math.sin(new_ori) > 0:\n",
    "#             new_ori = reset_radian(-math.pi + np.random.uniform(0,math.pi))\n",
    "#     elif robot_pos[1] <= 0:  # outside of bottom boundary\n",
    "#         if math.sin(new_ori) < 0:\n",
    "#             new_ori = reset_radian(0 + np.random.uniform(0,math.pi))\n",
    "#     return new_ori\n",
    "\n",
    "# general function to reset radian angle to [-pi, pi)\n",
    "def reset_radian(radian):\n",
    "    while radian >= math.pi:\n",
    "        radian = radian - 2*math.pi\n",
    "    while radian < -math.pi:\n",
    "        radian = radian + 2*math.pi\n",
    "    return radian"
   ]
  },
  {
   "cell_type": "code",
   "execution_count": 6,
   "metadata": {},
   "outputs": [],
   "source": [
    "# calculate world_side_coef from a desired screen size for 30 robots\n",
    "def cal_world_side_coef():\n",
    "    desired_screen_size = 500  # desired screen size for 30 robots\n",
    "    desired_world_size = float(desired_screen_size) / pixels_per_length\n",
    "    return desired_world_size / pow(30, 1/power_exponent)\n",
    "world_side_coef = cal_world_side_coef()\n",
    "# world_side_length = world_side_coef * pow(swarm_size, 1/power_exponent)\n",
    "world_side_length = world_side_coef * pow(30, 1/power_exponent)\n",
    "world_size = (world_side_length, world_side_length)  # square physical world\n",
    "# screen size calculated from world size\n",
    "screen_side_length = int(pixels_per_length * world_side_length)\n",
    "screen_size = (screen_side_length, screen_side_length)  # square display world"
   ]
  },
  {
   "cell_type": "code",
   "execution_count": 7,
   "metadata": {},
   "outputs": [],
   "source": [
    "# Function to create a unit vector from a given vector\n",
    "def unit_vector(vector):\n",
    "    return np.abs(vector / np.linalg.norm(vector))"
   ]
  },
  {
   "cell_type": "code",
   "execution_count": 8,
   "metadata": {},
   "outputs": [],
   "source": [
    "try:\n",
    "    pygame.display.quit()\n",
    "    pygame.quit()\n",
    "except:\n",
    "    pass\n",
    "pygame.init()\n",
    "\n",
    "font = pygame.font.SysFont(\"Cabin\", 12)\n",
    "\n",
    "screen = pygame.display.set_mode(screen_size)\n",
    "pygame.display.set_caption(\"Demo 1\")\n",
    "# draw the network\n",
    "screen.fill(color_white)\n",
    "\n",
    "pygame.display.update()\n"
   ]
  },
  {
   "cell_type": "code",
   "execution_count": 9,
   "metadata": {},
   "outputs": [],
   "source": [
    "def convert_coordinates(pos):\n",
    "    poses_temp = pos / world_side_length\n",
    "    poses_temp[1] = 1.0 - poses_temp[1]\n",
    "    poses_temp = poses_temp * screen_side_length\n",
    "    disp = poses_temp.astype(int) \n",
    "    return disp"
   ]
  },
  {
   "cell_type": "code",
   "execution_count": 167,
   "metadata": {},
   "outputs": [],
   "source": [
    "screen.fill(color_white)\n",
    "\n",
    "# robot properties\n",
    "# robot_poses = np.random.rand(swarm_size, 2) * world_side_length  # initialize the robot poses\n",
    "robot_poses = np.array([[1,1] for i in range(swarm_size)])  # initialize the robot poses\n",
    "dist_table = np.zeros((swarm_size, swarm_size))  # distances between robots\n",
    "conn_table = np.zeros((swarm_size, swarm_size))  # connections between robots\n",
    "    # 0 for disconnected, 1 for connected\n",
    "conn_lists = [[] for i in range(swarm_size)]  # lists of robots connected\n",
    "# function for all simulations, update the distances and connections between the robots\n",
    "def dist_conn_update():\n",
    "    global dist_table\n",
    "    global conn_table\n",
    "    global conn_lists\n",
    "    conn_lists = [[] for i in range(swarm_size)]  # empty the lists\n",
    "    for i in range(swarm_size):\n",
    "        for j in range(i+1, swarm_size):\n",
    "            dist_temp = np.linalg.norm(robot_poses[i] - robot_poses[j])\n",
    "            dist_table[i,j] = dist_temp\n",
    "            dist_table[j,i] = dist_temp\n",
    "            if dist_temp > comm_range:\n",
    "                conn_table[i,j] = 0\n",
    "                conn_table[j,i] = 0\n",
    "            else:\n",
    "                conn_table[i,j] = 1\n",
    "                conn_table[j,i] = 1\n",
    "                conn_lists[i].append(j)\n",
    "                conn_lists[j].append(i)\n",
    "dist_conn_update()  # update the distances and connections\n",
    "disp_poses = []  # display positions\n",
    "# function for all simulations, update the display positions\n",
    "def disp_poses_update():\n",
    "    global disp_poses\n",
    "    poses_temp = robot_poses / world_side_length\n",
    "    poses_temp[:,1] = 1.0 - poses_temp[:,1]\n",
    "    poses_temp = poses_temp * screen_side_length\n",
    "    disp_poses = poses_temp.astype(int)  # convert to int and assign to disp_poses\n",
    "    # disp_poses = np.array([[0,0] for i in range(swarm_size)])  # \n",
    "disp_poses_update()\n",
    "# deciding the seed robots, used in simulations with moving robots\n",
    "seed_percentage = 0.1  # the percentage of seed robots in the swarm\n",
    "seed_quantity = min(max(int(swarm_size*seed_percentage), 1), swarm_size)\n",
    "    # no smaller than 1, and no larger than swarm_size\n",
    "robot_seeds = [False for i in range(swarm_size)]  # whether a robot is a seed robot\n",
    "    # only seed robot can initialize the forming a new group\n",
    "seed_list_temp = np.arange(swarm_size)\n",
    "np.random.shuffle(seed_list_temp)\n",
    "for i in seed_list_temp[:seed_quantity]:\n",
    "    robot_seeds[i] = True\n",
    "    \n",
    "current_swarm_size = 1  # the current swarm size\n",
    "sim_haulted = False\n",
    "# set up the simulation window\n",
    "\n",
    "disp_poses_update()\n",
    "\n",
    "robot_oris = np.random.rand(swarm_size) * 2 * math.pi - math.pi  # in range of [-pi, pi)\n",
    "# use step moving distance in each update, instead of calculating from robot velocity\n",
    "# so to make it independent of simulation frequency control\n",
    "step_moving_dist = 0.05  # should be smaller than destination distance error\n",
    "destination_error = 0.1\n",
    "mov_vec_ratio = 0.5  # ratio used when calculating mov vector\n",
    "# spring constants in SMA\n",
    "linear_const = 1.0\n",
    "bend_const = 0.8\n",
    "disp_coef = 0.5\n",
    "# for avoiding space too small on loop\n",
    "space_good_thres = desired_space * 0.85\n",
    "\n",
    "\n",
    "for i in range(swarm_size):\n",
    "    pygame.draw.circle(screen, color_black, disp_poses[i], robot_size_formation,\n",
    "        robot_width_empty)\n",
    "    # pygame.draw.circle(screen, color_black, disp_poses[i], int(comm_range*pixels_per_length), 1)\n",
    "pygame.display.update()\n",
    "\n",
    "# robot_poses, current_swarm_size"
   ]
  },
  {
   "cell_type": "code",
   "execution_count": 187,
   "metadata": {},
   "outputs": [
    {
     "name": "stdout",
     "output_type": "stream",
     "text": [
      "Halted = False, swarm size = 3\n",
      "current swarm size is: 3 out of 3\n",
      "start\n",
      "Robot chosen is:  0\n",
      "closest robot id is:  2\n",
      "[1, 2]\n",
      "[1]\n",
      "triad is:  [0, 2, 1]\n",
      "[2.40208486 1.71849302]\n",
      "robot positions:  [[1 1]\n",
      " [2 1]\n",
      " [1 1]]\n"
     ]
    }
   ],
   "source": [
    "step =1\n",
    "init = 100\n",
    "for iter in range(1):\n",
    "    \n",
    "    for event in pygame.event.get():\n",
    "        if event.type == pygame.QUIT:  # close window button is clicked\n",
    "            print(\"program exit in simulation 1\")\n",
    "            sys.exit()  # exit the entire program\n",
    "        if event.type == pygame.KEYUP:\n",
    "            if event.key == pygame.K_SPACE:\n",
    "                sim_haulted = not sim_haulted  # reverse the pause flag\n",
    "    # if sim_haulted: continue\n",
    "    print(f\"Halted = {sim_haulted}, swarm size = {current_swarm_size}\")\n",
    "    print(f\"current swarm size is: {current_swarm_size} out of {swarm_size}\")\n",
    "    current_pos = robot_poses[0]\n",
    "    \n",
    "    robot_poses_t = robot_poses.copy()\n",
    "    if current_swarm_size == 0: pass #continue\n",
    "    elif current_swarm_size < 3:\n",
    "        # random_vector = unit_vector((np.random.rand(2)-0.5)*2)\n",
    "        for j in range(current_swarm_size):\n",
    "            point = np.random.randint(0, 100, size=2)\n",
    "            print(point)\n",
    "            robot_oris[j] = math.atan2(point[0], point[1])\n",
    "            # if current_swarm_size < swarm_size:\n",
    "            #     robot_oris[j] = np.absolute(robot_oris[j])\n",
    "        \n",
    "            robot_oris[j] = robot_boundary_check(robot_poses_t[j], robot_oris[j])\n",
    "            robot_poses[j] = robot_poses_t[j] + (step * np.array([math.cos(robot_oris[j]), math.sin(robot_oris[j])]))\n",
    "    else:\n",
    "        print(\"start\")\n",
    "        centroid = (np.sum(robot_poses[:, 0]), np.sum(robot_poses[:, 1]))\n",
    "        # Pseudopod Grouping\n",
    "        init = np.random.randint(0, current_swarm_size)\n",
    "        print(\"Robot chosen is: \", init)\n",
    "        # print(dist_table[init, :])\n",
    "        robot_ids = list(range(current_swarm_size))\n",
    "        robot_ids.remove(init)\n",
    "        for div in range(current_swarm_size//3):\n",
    "            closest = S14_closest_robot(init, robot_ids)\n",
    "            print(\"closest robot id is: \", closest)\n",
    "            # Choose another robot that is closest to the two\n",
    "            print(robot_ids)\n",
    "            robot_ids.remove(closest)\n",
    "            print(robot_ids)\n",
    "            closest1 = S14_closest_robot(init, robot_ids)\n",
    "            closest2 = S14_closest_robot(closest, robot_ids)\n",
    "            if closest1 == closest2:\n",
    "                triad = [init, closest, closest1]\n",
    "            else:\n",
    "                if dist_table[init, closest1] < dist_table[closest, closest2]:\n",
    "                    triad = [init, closest, closest1]\n",
    "                else:\n",
    "                    triad = [init, closest, closest2]\n",
    "            print(\"triad is: \", triad) # Direction of Last robot in this list is updated, other two are pseudopods\n",
    "            dist = [euclidean_distance(robot_poses[triad[i]], centroid) for i in triad]\n",
    "            \n",
    "            dist.sort(reverse=True)\n",
    "            vector1 = np.array([math.cos(robot_oris[triad[0]]), math.sin(robot_oris[triad[0]])])\n",
    "            vector2 = np.array([math.cos(robot_oris[triad[1]]), math.sin(robot_oris[triad[1]])])\n",
    "            point = np.random.randint(-100, 100, size=2)\n",
    "            # print(point)\n",
    "            # robot_oris[j] = math.atan2(point[0], point[1])\n",
    "            vector3 = unit_vector(point)\n",
    "            new = vector1 + vector2 + np.array(vector3)\n",
    "            print(new)\n",
    "            robot_oris[triad[2]] = math.atan2(new[1], new[0])\n",
    "            robot_poses[triad[2]] = robot_poses_t[triad[2]] + (step * np.array([math.cos(robot_oris[triad[2]]), math.sin(robot_oris[triad[2]])]))\n",
    "            robot_oris[triad[2]] = robot_boundary_check(robot_poses_t[triad[2]], robot_oris[triad[2]])\n",
    "            # np.delete(all_roboots, closest)\n",
    "            # closest2 = S14_closest_robot(init, all_robots)\n",
    "            # print(closest, closest2)\n",
    "        # for i in sorted(list(range(current_swarm_size)), key=lambda k: random.random()): \n",
    "            # while True:\n",
    "            #     point = np.absolute(np.random.randint(-100, 100, size=2))\n",
    "            #     robot_oris[i] = math.atan2(point[0], point[1])\n",
    "            #     new = robot_poses.copy()\n",
    "            #     robot_oris[i] = robot_boundary_check(robot_poses_t[i], robot_oris[i])\n",
    "            #     new[i] = robot_poses_t[i] + (step * np.array([math.cos(robot_oris[i]), math.sin(robot_oris[i])]))\n",
    "            #     print(\"vector \",np.array([math.cos(robot_oris[i]), math.sin(robot_oris[i])]))\n",
    "            #     print(\"1 \", robot_poses_t[i] + (1 * np.array([math.cos(robot_oris[i]), math.sin(robot_oris[i])])))\n",
    "            #     print(\"2, \", robot_poses_t[i] + (1.5 * np.array([math.cos(robot_oris[i]), math.sin(robot_oris[i])])))\n",
    "            #     if check_amoeba(robot_poses_t, new, current_swarm_size+1, step, thresh=1):\n",
    "            #         robot_poses = new\n",
    "            #         break \n",
    "            # pass\n",
    "                \n",
    "\n",
    "            \n",
    "    print(\"robot positions: \", robot_poses[:current_swarm_size]) \n",
    "    \n",
    "    if current_swarm_size < swarm_size:\n",
    "        current_swarm_size+=1 \n",
    "    dist_conn_update()\n",
    "    disp_poses_update()\n",
    "    screen.fill(color_white)\n",
    "    # disp_poses=robot_poses\n",
    "    for i in range(swarm_size):\n",
    "        if i != init:\n",
    "            pygame.draw.circle(screen, distinct_color_set[i], disp_poses[i], robot_size_formation, robot_width_empty)\n",
    "        else:\n",
    "            pygame.draw.circle(screen, color_black, disp_poses[i], robot_size_formation, robot_width_empty)\n",
    "        pygame.draw.line(screen, color_grey, disp_poses[i], convert_coordinates(robot_poses[i]+np.array([math.cos(robot_oris[i]), math.sin(robot_oris[i])])*0.5))\n",
    "        # pygame.draw.line(screen, color_grey, disp_poses[i], robot_poses[i]+np.array([math.cos(robot_oris[i]), math.sin(robot_oris[i])])*0.5)\n",
    "        \n",
    "        # pygame.draw.circle(screen, color_black, disp_poses[i], int(comm_range*pixels_per_length), 1)\n",
    "        \n",
    "    # Plot centroid\n",
    "    pygame.draw.circle(screen, color_red, convert_coordinates(getcenteroid(robot_poses[:current_swarm_size])), 4)\n",
    "    pygame.display.update()\n",
    "    # time.sleep(0.1)"
   ]
  },
  {
   "cell_type": "code",
   "execution_count": 218,
   "metadata": {},
   "outputs": [
    {
     "data": {
      "text/plain": [
       "2.4186133001883023"
      ]
     },
     "execution_count": 218,
     "metadata": {},
     "output_type": "execute_result"
    }
   ],
   "source": [
    "np.absolute(robot_oris[j])"
   ]
  },
  {
   "cell_type": "code",
   "execution_count": 63,
   "metadata": {},
   "outputs": [
    {
     "data": {
      "text/plain": [
       "array([[1, 1],\n",
       "       [1, 1],\n",
       "       [1, 1],\n",
       "       [1, 1],\n",
       "       [1, 1],\n",
       "       [1, 1],\n",
       "       [1, 1]])"
      ]
     },
     "execution_count": 63,
     "metadata": {},
     "output_type": "execute_result"
    }
   ],
   "source": [
    "robot_poses"
   ]
  },
  {
   "cell_type": "code",
   "execution_count": 64,
   "metadata": {},
   "outputs": [],
   "source": [
    "random_vector = unit_vector((np.random.rand(2)-0.5)*2)\n",
    "robot_poses[0] = current_pos + random_vector"
   ]
  },
  {
   "cell_type": "code",
   "execution_count": 148,
   "metadata": {},
   "outputs": [
    {
     "data": {
      "text/plain": [
       "-2.356194490192345"
      ]
     },
     "execution_count": 148,
     "metadata": {},
     "output_type": "execute_result"
    }
   ],
   "source": [
    "math.atan2(-1, -1)"
   ]
  },
  {
   "cell_type": "code",
   "execution_count": 227,
   "metadata": {},
   "outputs": [
    {
     "data": {
      "text/plain": [
       "3"
      ]
     },
     "execution_count": 227,
     "metadata": {},
     "output_type": "execute_result"
    }
   ],
   "source": [
    "10//3"
   ]
  },
  {
   "cell_type": "code",
   "execution_count": 41,
   "metadata": {},
   "outputs": [
    {
     "data": {
      "text/plain": [
       "array([4, 7])"
      ]
     },
     "execution_count": 41,
     "metadata": {},
     "output_type": "execute_result"
    }
   ],
   "source": [
    "np.array([1,2])+np.array([3,5])"
   ]
  },
  {
   "cell_type": "code",
   "execution_count": null,
   "metadata": {},
   "outputs": [],
   "source": []
  }
 ],
 "metadata": {
  "interpreter": {
   "hash": "80abd1883e2bdb729655d48617bd9f4ab574f1992ae1ee484870355a6b9d98fc"
  },
  "kernelspec": {
   "display_name": "Python 3.7.9 64-bit ('pygame-swarm')",
   "language": "python",
   "name": "python3"
  },
  "language_info": {
   "codemirror_mode": {
    "name": "ipython",
    "version": 3
   },
   "file_extension": ".py",
   "mimetype": "text/x-python",
   "name": "python",
   "nbconvert_exporter": "python",
   "pygments_lexer": "ipython3",
   "version": "3.7.9"
  },
  "orig_nbformat": 4
 },
 "nbformat": 4,
 "nbformat_minor": 2
}
