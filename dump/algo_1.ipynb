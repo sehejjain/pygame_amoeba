{
 "cells": [
  {
   "cell_type": "code",
   "execution_count": 1,
   "metadata": {},
   "outputs": [
    {
     "name": "stdout",
     "output_type": "stream",
     "text": [
      "pygame 2.1.2 (SDL 2.0.18, Python 3.7.9)\n",
      "Hello from the pygame community. https://www.pygame.org/contribute.html\n"
     ]
    }
   ],
   "source": [
    "import pygame\n",
    "import sys, os, getopt, math, random\n",
    "import numpy as np"
   ]
  },
  {
   "cell_type": "code",
   "execution_count": 2,
   "metadata": {},
   "outputs": [],
   "source": [
    "swarm_size = 30  # default size of the swarm\n",
    "manual_mode = False  # manually press enter key to proceed between simulations"
   ]
  },
  {
   "cell_type": "code",
   "execution_count": 3,
   "metadata": {},
   "outputs": [],
   "source": [
    "power_exponent = 1.3  # between 1.0 and 2.0\n",
    "    # the larger the parameter, the slower the windows grows with swarm size; vice versa\n",
    "# for converting from physical world to display world\n",
    "pixels_per_length = 50  # this is to be fixed\n",
    "# calculate world_side_coef from a desired screen size for 30 robots\n",
    "def cal_world_side_coef():\n",
    "    desired_screen_size = 400  # desired screen size for 30 robots\n",
    "    desired_world_size = float(desired_screen_size) / pixels_per_length\n",
    "    return desired_world_size / pow(30, 1/power_exponent)\n",
    "world_side_coef = cal_world_side_coef()\n",
    "world_side_length = world_side_coef * pow(swarm_size, 1/power_exponent)\n",
    "world_size = (world_side_length, world_side_length)  # square physical world"
   ]
  },
  {
   "cell_type": "code",
   "execution_count": 4,
   "metadata": {},
   "outputs": [],
   "source": [
    "# screen size calculated from world size\n",
    "screen_side_length = int(pixels_per_length * world_side_length)\n",
    "screen_size = (screen_side_length, screen_side_length)  # square display world\n",
    "\n",
    "# formation configuration\n",
    "comm_range = 0.65  # communication range in the world\n",
    "desired_space_ratio = 0.8  # ratio of the desired space to the communication range\n",
    "    # should be larger than 1/1.414=0.71, to avoid connections crossing each other\n",
    "desired_space = comm_range * desired_space_ratio\n",
    "# deviate robot heading, so as to avoid robot travlling perpendicular to the walls\n",
    "perp_thres = math.pi/18  # threshold, range from the perpendicular line\n",
    "devia_angle = math.pi/9  # deviate these much angle from perpendicualr line\n",
    "# consensus configuration\n",
    "loop_folder = \"loop-data2\"  # folder to store the loop shapes\n",
    "shape_catalog = [\"airplane\", \"circle\", \"cross\", \"goblet\", \"hand\", \"K\", \"lamp\", \"square\",\n",
    "    \"star\", \"triangle\", \"wrench\"]\n",
    "shape_quantity = len(shape_catalog)  # the number of decisions\n",
    "shape_decision = -1  # the index of chosen decision, in range(shape_quantity)\n",
    "    # also the index in shape_catalog\n",
    "assignment_scheme = np.zeros(swarm_size)\n",
    "# variable to force shape to different choices, for video recording\n",
    "force_shape_set = range(shape_quantity)\n",
    "\n",
    "# robot properties\n",
    "robot_poses = np.random.rand(swarm_size, 2) * world_side_length  # initialize the robot poses\n",
    "dist_table = np.zeros((swarm_size, swarm_size))  # distances between robots\n",
    "conn_table = np.zeros((swarm_size, swarm_size))  # connections between robots\n",
    "    # 0 for disconnected, 1 for connected\n",
    "conn_lists = [[] for i in range(swarm_size)]  # lists of robots connected"
   ]
  },
  {
   "cell_type": "code",
   "execution_count": 5,
   "metadata": {},
   "outputs": [],
   "source": [
    "# function for all simulations, update the distances and connections between the robots\n",
    "def dist_conn_update():\n",
    "    global dist_table\n",
    "    global conn_table\n",
    "    global conn_lists\n",
    "    conn_lists = [[] for i in range(swarm_size)]  # empty the lists\n",
    "    for i in range(swarm_size):\n",
    "        for j in range(i+1, swarm_size):\n",
    "            dist_temp = np.linalg.norm(robot_poses[i] - robot_poses[j])\n",
    "            dist_table[i,j] = dist_temp\n",
    "            dist_table[j,i] = dist_temp\n",
    "            if dist_temp > comm_range:\n",
    "                conn_table[i,j] = 0\n",
    "                conn_table[j,i] = 0\n",
    "            else:\n",
    "                conn_table[i,j] = 1\n",
    "                conn_table[j,i] = 1\n",
    "                conn_lists[i].append(j)\n",
    "                conn_lists[j].append(i)\n",
    "dist_conn_update()  # update the distances and connections\n",
    "disp_poses = []  # display positions\n",
    "# function for all simulations, update the display positions"
   ]
  },
  {
   "cell_type": "code",
   "execution_count": 6,
   "metadata": {},
   "outputs": [],
   "source": [
    "def disp_poses_update():\n",
    "    global disp_poses\n",
    "    poses_temp = robot_poses / world_side_length\n",
    "    poses_temp[:,1] = 1.0 - poses_temp[:,1]\n",
    "    poses_temp = poses_temp * screen_side_length\n",
    "    disp_poses = poses_temp.astype(int)  # convert to int and assign to disp_poses\n",
    "disp_poses_update()\n",
    "# deciding the seed robots, used in simulations with moving robots\n",
    "seed_percentage = 0.1  # the percentage of seed robots in the swarm\n",
    "seed_quantity = min(max(int(swarm_size*seed_percentage), 1), swarm_size)\n",
    "    # no smaller than 1, and no larger than swarm_size\n",
    "robot_seeds = [False for i in range(swarm_size)]  # whether a robot is a seed robot\n",
    "    # only seed robot can initialize the forming a new group\n",
    "seed_list_temp = np.arange(swarm_size)\n",
    "np.random.shuffle(seed_list_temp)\n",
    "for i in seed_list_temp[:seed_quantity]:\n",
    "    robot_seeds[i] = True"
   ]
  },
  {
   "cell_type": "code",
   "execution_count": 7,
   "metadata": {},
   "outputs": [],
   "source": [
    "# visualization configuration\n",
    "color_white = (255,255,255)\n",
    "color_black = (0,0,0)\n",
    "color_grey = (128,128,128)\n",
    "color_red = (255,0,0)\n",
    "# distinct_color_set = ((230,25,75), (60,180,75), (255,225,25), (0,130,200), (245,130,48),\n",
    "#     (145,30,180), (70,240,240), (240,50,230), (210,245,60), (250,190,190),\n",
    "#     (0,128,128), (230,190,255), (170,110,40), (255,250,200), (128,0,0),\n",
    "#     (170,255,195), (128,128,0), (255,215,180), (0,0,128), (128,128,128))\n",
    "distinct_color_set = ((230,25,75), (60,180,75), (255,225,25), (0,130,200), (245,130,48),\n",
    "    (145,30,180), (70,240,240), (240,50,230), (210,245,60), (250,190,190),\n",
    "    (0,128,128), (230,190,255), (170,110,40), (128,0,0),\n",
    "    (170,255,195), (128,128,0), (0,0,128))\n",
    "color_quantity = 17\n",
    "# sizes for formation simulations\n",
    "robot_size_formation = 5  # robot size in formation simulations\n",
    "robot_width_empty = 2\n",
    "conn_width_formation = 2  # connection line width in formation simulations\n",
    "# sizes for consensus simulations\n",
    "robot_size_consensus = 7  # robot size in consensus simulatiosn\n",
    "conn_width_thin_consensus = 2  # thin connection line in consensus simulations\n",
    "conn_width_thick_consensus = 4  # thick connection line in consensus simulations\n",
    "robot_ring_size = 9  # extra ring on robot in consensus simulations\n",
    "# the sizes for formation and consensus simulations are set to same for visual consistency\n"
   ]
  },
  {
   "cell_type": "code",
   "execution_count": 1,
   "metadata": {},
   "outputs": [
    {
     "ename": "NameError",
     "evalue": "name 'pygame' is not defined",
     "output_type": "error",
     "traceback": [
      "\u001b[0;31m---------------------------------------------------------------------------\u001b[0m",
      "\u001b[0;31mNameError\u001b[0m                                 Traceback (most recent call last)",
      "\u001b[0;32m/var/folders/j0/f7y57bnj6219bb7m377nvz680000gn/T/ipykernel_4015/491242364.py\u001b[0m in \u001b[0;36m<module>\u001b[0;34m\u001b[0m\n\u001b[1;32m      1\u001b[0m \u001b[0;31m# set up the simulation window\u001b[0m\u001b[0;34m\u001b[0m\u001b[0;34m\u001b[0m\u001b[0;34m\u001b[0m\u001b[0m\n\u001b[0;32m----> 2\u001b[0;31m \u001b[0mpygame\u001b[0m\u001b[0;34m.\u001b[0m\u001b[0minit\u001b[0m\u001b[0;34m(\u001b[0m\u001b[0;34m)\u001b[0m\u001b[0;34m\u001b[0m\u001b[0;34m\u001b[0m\u001b[0m\n\u001b[0m\u001b[1;32m      3\u001b[0m \u001b[0mfont\u001b[0m \u001b[0;34m=\u001b[0m \u001b[0mpygame\u001b[0m\u001b[0;34m.\u001b[0m\u001b[0mfont\u001b[0m\u001b[0;34m.\u001b[0m\u001b[0mSysFont\u001b[0m\u001b[0;34m(\u001b[0m\u001b[0;34m\"Cabin\"\u001b[0m\u001b[0;34m,\u001b[0m \u001b[0;36m12\u001b[0m\u001b[0;34m)\u001b[0m\u001b[0;34m\u001b[0m\u001b[0;34m\u001b[0m\u001b[0m\n\u001b[1;32m      4\u001b[0m \u001b[0;31m# icon = pygame.image.load(\"icon_geometry_art.jpg\")\u001b[0m\u001b[0;34m\u001b[0m\u001b[0;34m\u001b[0m\u001b[0;34m\u001b[0m\u001b[0m\n\u001b[1;32m      5\u001b[0m \u001b[0;31m# pygame.display.set_icon(icon)\u001b[0m\u001b[0;34m\u001b[0m\u001b[0;34m\u001b[0m\u001b[0;34m\u001b[0m\u001b[0m\n",
      "\u001b[0;31mNameError\u001b[0m: name 'pygame' is not defined"
     ]
    }
   ],
   "source": [
    "# set up the simulation window\n",
    "pygame.init()\n",
    "font = pygame.font.SysFont(\"Cabin\", 12)\n",
    "# icon = pygame.image.load(\"icon_geometry_art.jpg\")\n",
    "# pygame.display.set_icon(icon)\n",
    "screen = pygame.display.set_mode(screen_size)\n",
    "pygame.display.set_caption(\"Demo 1\")\n",
    "# draw the network\n",
    "screen.fill(color_white)\n",
    "for i in range(swarm_size):\n",
    "    pygame.draw.circle(screen, color_black, disp_poses[i], robot_size_formation,\n",
    "        robot_width_empty)\n",
    "    pygame.draw.circle(screen, color_black, disp_poses[i],\n",
    "        int(comm_range*pixels_per_length), 1)\n",
    "pygame.display.update()"
   ]
  },
  {
   "cell_type": "code",
   "execution_count": 10,
   "metadata": {},
   "outputs": [
    {
     "data": {
      "text/plain": [
       "5"
      ]
     },
     "execution_count": 10,
     "metadata": {},
     "output_type": "execute_result"
    }
   ],
   "source": [
    "robot_size_formation"
   ]
  },
  {
   "cell_type": "code",
   "execution_count": 11,
   "metadata": {},
   "outputs": [],
   "source": [
    "def S14_robot_grouping(robot_list, robot_group_ids, groups):\n",
    "    # the input list 'robot_list' should not be empty\n",
    "    groups_temp = {}  # key is group id, value is list of robots\n",
    "    for i in robot_list:\n",
    "        group_id_temp = robot_group_ids[i]\n",
    "        if group_id_temp not in groups_temp.keys():\n",
    "            groups_temp[group_id_temp] = [i]\n",
    "        else:\n",
    "            groups_temp[group_id_temp].append(i)\n",
    "    group_id_max = -1  # the group with most members\n",
    "        # regardless of only one group or multiple groups in groups_temp\n",
    "    if len(groups_temp.keys()) > 1:  # there is more than one group\n",
    "        # find the largest group and disassemble the rest\n",
    "        group_id_max = list(groups_temp.keys())[0]\n",
    "        size_max = len(groups[group_id_max][0])\n",
    "        for group_id_temp in list(groups_temp.keys())[1:]:\n",
    "            size_temp = len(groups[group_id_temp][0])\n",
    "            if size_temp > size_max:\n",
    "                group_id_max = group_id_temp\n",
    "                size_max = size_temp\n",
    "    else:  # only one group, automatically the largest one\n",
    "        group_id_max = list(groups_temp.keys())[0]\n",
    "    return groups_temp, group_id_max\n",
    "\n",
    "# function for simulation 1 and 4, find the closest robot to a host robot\n",
    "# use global variable \"dist_table\"\n",
    "def S14_closest_robot(robot_host, robot_neighbors):\n",
    "    # \"robot_host\": the robot to measure distance from\n",
    "    # \"robot_neighbors\": a list of robots to be compared with\n",
    "    robot_closest = robot_neighbors[0]\n",
    "    dist_closest = dist_table[robot_host,robot_closest]\n",
    "    for i in robot_neighbors[1:]:\n",
    "        dist_temp = dist_table[robot_host,i]\n",
    "        if dist_temp < dist_closest:\n",
    "            robot_closest = i\n",
    "            dist_closest = dist_temp\n",
    "    return robot_closest\n",
    "\n",
    "# general function to normalize a numpy vector\n",
    "def normalize(v):\n",
    "    norm = np.linalg.norm(v)\n",
    "    if norm == 0:\n",
    "        return v\n",
    "    return v/norm\n",
    "\n",
    "# general function to reset radian angle to [-pi, pi)\n",
    "def reset_radian(radian):\n",
    "    while radian >= math.pi:\n",
    "        radian = radian - 2*math.pi\n",
    "    while radian < -math.pi:\n",
    "        radian = radian + 2*math.pi\n",
    "    return radian\n",
    "\n",
    "# general function to steer robot away from wall if out of boundary (following physics)\n",
    "# use global variable \"world_side_length\"\n",
    "def robot_boundary_check(robot_pos, robot_ori):\n",
    "    new_ori = robot_ori\n",
    "    if robot_pos[0] >= world_side_length:  # outside of right boundary\n",
    "        if math.cos(new_ori) > 0:\n",
    "            new_ori = reset_radian(2*(math.pi/2) - new_ori)\n",
    "            # further check if new angle is too much perpendicular\n",
    "            if new_ori > 0:\n",
    "                if (math.pi - new_ori) < perp_thres:\n",
    "                    new_ori = new_ori - devia_angle\n",
    "            else:\n",
    "                if (new_ori + math.pi) < perp_thres:\n",
    "                    new_ori = new_ori + devia_angle\n",
    "    elif robot_pos[0] <= 0:  # outside of left boundary\n",
    "        if math.cos(new_ori) < 0:\n",
    "            new_ori = reset_radian(2*(math.pi/2) - new_ori)\n",
    "            if new_ori > 0:\n",
    "                if new_ori < perp_thres:\n",
    "                    new_ori = new_ori + devia_angle\n",
    "            else:\n",
    "                if (-new_ori) < perp_thres:\n",
    "                    new_ori = new_ori - devia_angle\n",
    "    if robot_pos[1] >= world_side_length:  # outside of top boundary\n",
    "        if math.sin(new_ori) > 0:\n",
    "            new_ori = reset_radian(2*(0) - new_ori)\n",
    "            if new_ori > -math.pi/2:\n",
    "                if (new_ori + math.pi/2) < perp_thres:\n",
    "                    new_ori = new_ori + devia_angle\n",
    "            else:\n",
    "                if (-math.pi/2 - new_ori) < perp_thres:\n",
    "                    new_ori = new_ori - devia_angle\n",
    "    elif robot_pos[1] <= 0:  # outside of bottom boundary\n",
    "        if math.sin(new_ori) < 0:\n",
    "            new_ori = reset_radian(2*(0) - new_ori)\n",
    "            if new_ori > math.pi/2:\n",
    "                if (new_ori - math.pi/2) < perp_thres:\n",
    "                    new_ori = new_ori + devia_angle\n",
    "            else:\n",
    "                if (math.pi/2 - new_ori) < perp_thres:\n",
    "                    new_ori = new_ori - devia_angle\n",
    "    return new_ori\n"
   ]
  },
  {
   "cell_type": "code",
   "execution_count": 12,
   "metadata": {},
   "outputs": [],
   "source": [
    "pygame.quit()"
   ]
  },
  {
   "cell_type": "code",
   "execution_count": 14,
   "metadata": {},
   "outputs": [
    {
     "data": {
      "text/plain": [
       "(30, 2)"
      ]
     },
     "execution_count": 14,
     "metadata": {},
     "output_type": "execute_result"
    }
   ],
   "source": [
    "disp_poses.shape"
   ]
  },
  {
   "cell_type": "code",
   "execution_count": null,
   "metadata": {},
   "outputs": [],
   "source": []
  }
 ],
 "metadata": {
  "interpreter": {
   "hash": "80abd1883e2bdb729655d48617bd9f4ab574f1992ae1ee484870355a6b9d98fc"
  },
  "kernelspec": {
   "display_name": "Python 3.7.9 64-bit ('pygame-swarm')",
   "language": "python",
   "name": "python3"
  },
  "language_info": {
   "codemirror_mode": {
    "name": "ipython",
    "version": 3
   },
   "file_extension": ".py",
   "mimetype": "text/x-python",
   "name": "python",
   "nbconvert_exporter": "python",
   "pygments_lexer": "ipython3",
   "version": "3.7.9"
  },
  "orig_nbformat": 4
 },
 "nbformat": 4,
 "nbformat_minor": 2
}
